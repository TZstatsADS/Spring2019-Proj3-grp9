{
 "cells": [
  {
   "cell_type": "markdown",
   "metadata": {},
   "source": [
    "### Super-Resolution Convolutional Neural Network "
   ]
  },
  {
   "cell_type": "code",
   "execution_count": 9,
   "metadata": {},
   "outputs": [],
   "source": [
    "import os\n",
    "import cv2\n",
    "import h5py\n",
    "import math\n",
    "import numpy\n",
    "import matplotlib.pyplot as plt\n",
    "import tensorflow as tf\n",
    "import time\n",
    "%run \"../lib/SRCNN/main_SRCNN_prepare_data.py\" #import functions for prepare data\n",
    "%run \"../lib/SRCNN/main_SRCNN_train_predict.py\" #import train and predict model"
   ]
  },
  {
   "cell_type": "markdown",
   "metadata": {},
   "source": [
    "### Feature and Label Construction"
   ]
  },
  {
   "cell_type": "markdown",
   "metadata": {},
   "source": [
    "#### Please make sure you have the following directories with  trianing LR HR images and testing LR HR images along with our entire folder!"
   ]
  },
  {
   "cell_type": "code",
   "execution_count": 13,
   "metadata": {},
   "outputs": [],
   "source": [
    "#Set train data directories\n",
    "train_LR_dir = \"../data/train_set/LR/\"\n",
    "train_HR_dir = \"../data/train_set/HR/\"\n",
    "LR_dir_name = os.listdir(train_LR_dir)\n",
    "HR_dir_name = os.listdir(train_HR_dir)\n",
    "\n",
    "#Set test data directories\n",
    "test_lr_dir = \"../data/test_set/LR/\"\n",
    "test_super_dir = \"../data/test_set/SR-I/\"\n",
    "test_hr_dir = \"../data/test_set/HR/\"\n",
    "test_lr_name = os.listdir(test_lr_dir)\n",
    "n_test_files = len(test_lr_name)\n",
    "\n",
    "#weight path\n",
    "weight_path = \"../lib/SRCNN/YCrCb_entire_weight.h5\"\n",
    "\n",
    "#initial values\n",
    "n_files = len(LR_dir_name)\n",
    "Random_Crop =30 #number of sample patches\n",
    "Patch_size = 33 \n",
    "learn_rate = 0.0003"
   ]
  },
  {
   "cell_type": "code",
   "execution_count": 11,
   "metadata": {},
   "outputs": [],
   "source": [
    "#RGB_feature , RGB_label , RGB_feature_time= feature_RGB(n_files,Random_Crop,Patch_size,train_LR_dir,train_HR_dir,LR_dir_name,HR_dir_name)"
   ]
  },
  {
   "cell_type": "code",
   "execution_count": 5,
   "metadata": {},
   "outputs": [],
   "source": [
    "YCrCb_feature , YCrCb_label , YCrCb_feature_time = feature_YCrCb(n_files,Random_Crop,Patch_size,train_LR_dir,train_HR_dir,LR_dir_name,HR_dir_name)"
   ]
  },
  {
   "cell_type": "code",
   "execution_count": 6,
   "metadata": {},
   "outputs": [
    {
     "data": {
      "text/plain": [
       "(45000, 33, 33, 3)"
      ]
     },
     "execution_count": 6,
     "metadata": {},
     "output_type": "execute_result"
    }
   ],
   "source": [
    "YCrCb_feature.shape"
   ]
  },
  {
   "cell_type": "code",
   "execution_count": 7,
   "metadata": {},
   "outputs": [
    {
     "data": {
      "text/plain": [
       "(45000, 33, 33, 3)"
      ]
     },
     "execution_count": 7,
     "metadata": {},
     "output_type": "execute_result"
    }
   ],
   "source": [
    "YCrCb_label.shape"
   ]
  },
  {
   "cell_type": "code",
   "execution_count": 129,
   "metadata": {},
   "outputs": [],
   "source": [
    "#Y_feature , Y_label , Y_feature_time = feature_Y_color(n_files,Random_Crop,Patch_size,train_LR_dir,train_HR_dir,LR_dir_name,HR_dir_name)"
   ]
  },
  {
   "cell_type": "code",
   "execution_count": null,
   "metadata": {},
   "outputs": [],
   "source": [
    "#Save train feature h5py file\n",
    "#write_h5py(RGB_feature,RGB_label,\"../lib/RGB_feature.h5\")\n",
    "#write_h5py(YCrCb_feature,YCrCb_label,\"../lib/YCrCb_feature.h5\")\n",
    "#write_h5py(Y_feature,Y_label,\"../lib/Y_feature.h5\")"
   ]
  },
  {
   "cell_type": "markdown",
   "metadata": {},
   "source": [
    "### Train Images on three color channel with validation split"
   ]
  },
  {
   "cell_type": "code",
   "execution_count": null,
   "metadata": {},
   "outputs": [],
   "source": [
    "#RGB_feature,RGB_label =  read_training_data(\"../lib/RGB_feature.h5\") \n",
    "#YCrCb_feature,YCrCb_label =  read_training_data(\"../lib/YCrCb_feature.h5\") \n",
    "#Y_feature,Y_label =  read_training_data(\"../lib/Y_feature.h5\") "
   ]
  },
  {
   "cell_type": "markdown",
   "metadata": {},
   "source": [
    "#### Training RGB channel"
   ]
  },
  {
   "cell_type": "code",
   "execution_count": 156,
   "metadata": {},
   "outputs": [],
   "source": [
    "#RGB_model = train_model(n1=64,n2=32,n3=3,k1=9,k2=1,k3=5, Patch_size=Patch_size,learn_rate=learn_rate,channel=3)"
   ]
  },
  {
   "cell_type": "code",
   "execution_count": 157,
   "metadata": {},
   "outputs": [
    {
     "name": "stdout",
     "output_type": "stream",
     "text": [
      "_________________________________________________________________\n",
      "Layer (type)                 Output Shape              Param #   \n",
      "=================================================================\n",
      "conv2d_45 (Conv2D)           (None, 33, 33, 64)        15616     \n",
      "_________________________________________________________________\n",
      "conv2d_46 (Conv2D)           (None, 33, 33, 32)        2080      \n",
      "_________________________________________________________________\n",
      "conv2d_47 (Conv2D)           (None, 33, 33, 3)         2403      \n",
      "=================================================================\n",
      "Total params: 20,099\n",
      "Trainable params: 20,099\n",
      "Non-trainable params: 0\n",
      "_________________________________________________________________\n",
      "None\n"
     ]
    }
   ],
   "source": [
    "#print(RGB_model.summary())"
   ]
  },
  {
   "cell_type": "code",
   "execution_count": 158,
   "metadata": {},
   "outputs": [
    {
     "name": "stdout",
     "output_type": "stream",
     "text": [
      "Train on 36000 samples, validate on 9000 samples\n",
      "Epoch 1/100\n",
      "36000/36000 [==============================] - 7s 184us/step - loss: 0.0140 - val_loss: 0.0062\n",
      "Epoch 2/100\n",
      "36000/36000 [==============================] - 5s 150us/step - loss: 0.0036 - val_loss: 0.0051\n",
      "Epoch 3/100\n",
      "36000/36000 [==============================] - 5s 150us/step - loss: 0.0032 - val_loss: 0.0048\n",
      "Epoch 4/100\n",
      "36000/36000 [==============================] - 5s 149us/step - loss: 0.0030 - val_loss: 0.0046\n",
      "Epoch 5/100\n",
      "36000/36000 [==============================] - 5s 148us/step - loss: 0.0029 - val_loss: 0.0045\n",
      "Epoch 6/100\n",
      "36000/36000 [==============================] - 5s 150us/step - loss: 0.0028 - val_loss: 0.0045\n",
      "Epoch 7/100\n",
      "36000/36000 [==============================] - 5s 149us/step - loss: 0.0028 - val_loss: 0.0044\n",
      "Epoch 8/100\n",
      "36000/36000 [==============================] - 5s 149us/step - loss: 0.0028 - val_loss: 0.0049\n",
      "Epoch 9/100\n",
      "36000/36000 [==============================] - 5s 149us/step - loss: 0.0027 - val_loss: 0.0044\n",
      "Epoch 10/100\n",
      "36000/36000 [==============================] - 5s 149us/step - loss: 0.0027 - val_loss: 0.0044\n",
      "Epoch 11/100\n",
      "36000/36000 [==============================] - 5s 151us/step - loss: 0.0027 - val_loss: 0.0043\n",
      "Epoch 12/100\n",
      "36000/36000 [==============================] - 5s 147us/step - loss: 0.0027 - val_loss: 0.0043\n",
      "Epoch 13/100\n",
      "36000/36000 [==============================] - 5s 149us/step - loss: 0.0027 - val_loss: 0.0043\n",
      "Epoch 14/100\n",
      "36000/36000 [==============================] - 5s 148us/step - loss: 0.0027 - val_loss: 0.0043\n",
      "Epoch 15/100\n",
      "36000/36000 [==============================] - 5s 147us/step - loss: 0.0027 - val_loss: 0.0044\n",
      "Epoch 16/100\n",
      "36000/36000 [==============================] - 5s 149us/step - loss: 0.0027 - val_loss: 0.0043\n",
      "Epoch 17/100\n",
      "36000/36000 [==============================] - 5s 149us/step - loss: 0.0027 - val_loss: 0.0043\n",
      "Epoch 18/100\n",
      "36000/36000 [==============================] - 5s 148us/step - loss: 0.0026 - val_loss: 0.0043\n",
      "Epoch 19/100\n",
      "36000/36000 [==============================] - 5s 149us/step - loss: 0.0026 - val_loss: 0.0043\n",
      "Epoch 20/100\n",
      "36000/36000 [==============================] - 5s 149us/step - loss: 0.0026 - val_loss: 0.0043\n",
      "Epoch 21/100\n",
      "36000/36000 [==============================] - 5s 147us/step - loss: 0.0026 - val_loss: 0.0042\n",
      "Epoch 22/100\n",
      "36000/36000 [==============================] - 5s 147us/step - loss: 0.0026 - val_loss: 0.0042\n",
      "Epoch 23/100\n",
      "36000/36000 [==============================] - 5s 148us/step - loss: 0.0026 - val_loss: 0.0045\n",
      "Epoch 24/100\n",
      "36000/36000 [==============================] - 5s 149us/step - loss: 0.0026 - val_loss: 0.0042\n",
      "Epoch 25/100\n",
      "36000/36000 [==============================] - 5s 145us/step - loss: 0.0026 - val_loss: 0.0042\n",
      "Epoch 26/100\n",
      "36000/36000 [==============================] - 5s 146us/step - loss: 0.0026 - val_loss: 0.0043\n",
      "Epoch 27/100\n",
      "36000/36000 [==============================] - 5s 146us/step - loss: 0.0026 - val_loss: 0.0042\n",
      "Epoch 28/100\n",
      "36000/36000 [==============================] - 5s 145us/step - loss: 0.0026 - val_loss: 0.0042\n",
      "Epoch 29/100\n",
      "36000/36000 [==============================] - 5s 145us/step - loss: 0.0026 - val_loss: 0.0042\n",
      "Epoch 30/100\n",
      "36000/36000 [==============================] - 5s 144us/step - loss: 0.0026 - val_loss: 0.0042\n",
      "Epoch 31/100\n",
      "36000/36000 [==============================] - 5s 146us/step - loss: 0.0026 - val_loss: 0.0042\n",
      "Epoch 32/100\n",
      "36000/36000 [==============================] - 5s 146us/step - loss: 0.0026 - val_loss: 0.0042\n",
      "Epoch 33/100\n",
      "36000/36000 [==============================] - 5s 146us/step - loss: 0.0026 - val_loss: 0.0042\n",
      "Epoch 34/100\n",
      "36000/36000 [==============================] - 5s 146us/step - loss: 0.0026 - val_loss: 0.0043\n",
      "Epoch 35/100\n",
      "36000/36000 [==============================] - 5s 145us/step - loss: 0.0026 - val_loss: 0.0042\n",
      "Epoch 36/100\n",
      "36000/36000 [==============================] - 5s 146us/step - loss: 0.0026 - val_loss: 0.0042\n",
      "Epoch 37/100\n",
      "36000/36000 [==============================] - 5s 148us/step - loss: 0.0025 - val_loss: 0.0042\n",
      "Epoch 38/100\n",
      "36000/36000 [==============================] - 5s 147us/step - loss: 0.0025 - val_loss: 0.0042\n",
      "Epoch 39/100\n",
      "36000/36000 [==============================] - 5s 146us/step - loss: 0.0025 - val_loss: 0.0042\n",
      "Epoch 40/100\n",
      "36000/36000 [==============================] - 5s 147us/step - loss: 0.0025 - val_loss: 0.0043\n",
      "Epoch 41/100\n",
      "36000/36000 [==============================] - 5s 146us/step - loss: 0.0025 - val_loss: 0.0042\n",
      "Epoch 42/100\n",
      "36000/36000 [==============================] - 5s 145us/step - loss: 0.0025 - val_loss: 0.0042\n",
      "Epoch 43/100\n",
      "36000/36000 [==============================] - 5s 145us/step - loss: 0.0025 - val_loss: 0.0041\n",
      "Epoch 44/100\n",
      "36000/36000 [==============================] - 5s 145us/step - loss: 0.0025 - val_loss: 0.0041\n",
      "Epoch 45/100\n",
      "36000/36000 [==============================] - 5s 146us/step - loss: 0.0025 - val_loss: 0.0041\n",
      "Epoch 46/100\n",
      "36000/36000 [==============================] - 5s 145us/step - loss: 0.0025 - val_loss: 0.0042\n",
      "Epoch 47/100\n",
      "36000/36000 [==============================] - 5s 147us/step - loss: 0.0025 - val_loss: 0.0042\n",
      "Epoch 48/100\n",
      "36000/36000 [==============================] - 5s 146us/step - loss: 0.0025 - val_loss: 0.0041\n",
      "Epoch 49/100\n",
      "36000/36000 [==============================] - 5s 147us/step - loss: 0.0025 - val_loss: 0.0041\n",
      "Epoch 50/100\n",
      "36000/36000 [==============================] - 5s 147us/step - loss: 0.0025 - val_loss: 0.0041\n",
      "Epoch 51/100\n",
      "36000/36000 [==============================] - 5s 146us/step - loss: 0.0025 - val_loss: 0.0041\n",
      "Epoch 52/100\n",
      "36000/36000 [==============================] - 5s 149us/step - loss: 0.0025 - val_loss: 0.0041\n",
      "Epoch 53/100\n",
      "36000/36000 [==============================] - 5s 148us/step - loss: 0.0025 - val_loss: 0.0042\n",
      "Epoch 54/100\n",
      "36000/36000 [==============================] - 5s 149us/step - loss: 0.0025 - val_loss: 0.0041\n",
      "Epoch 55/100\n",
      "36000/36000 [==============================] - 5s 149us/step - loss: 0.0025 - val_loss: 0.0041\n",
      "Epoch 56/100\n",
      "36000/36000 [==============================] - 5s 146us/step - loss: 0.0025 - val_loss: 0.0041\n",
      "Epoch 57/100\n",
      "36000/36000 [==============================] - 5s 150us/step - loss: 0.0025 - val_loss: 0.0041\n",
      "Epoch 58/100\n",
      "36000/36000 [==============================] - 5s 147us/step - loss: 0.0025 - val_loss: 0.0041\n",
      "Epoch 59/100\n",
      "36000/36000 [==============================] - 5s 146us/step - loss: 0.0025 - val_loss: 0.0041\n",
      "Epoch 60/100\n",
      "36000/36000 [==============================] - 5s 146us/step - loss: 0.0025 - val_loss: 0.0041\n",
      "Epoch 61/100\n",
      "36000/36000 [==============================] - 5s 146us/step - loss: 0.0025 - val_loss: 0.0041\n",
      "Epoch 62/100\n",
      "36000/36000 [==============================] - 5s 147us/step - loss: 0.0025 - val_loss: 0.0041\n",
      "Epoch 63/100\n",
      "36000/36000 [==============================] - 5s 147us/step - loss: 0.0025 - val_loss: 0.0041\n",
      "Epoch 64/100\n",
      "36000/36000 [==============================] - 5s 146us/step - loss: 0.0025 - val_loss: 0.0041\n",
      "Epoch 65/100\n",
      "36000/36000 [==============================] - 5s 146us/step - loss: 0.0025 - val_loss: 0.0041\n",
      "Epoch 66/100\n",
      "36000/36000 [==============================] - 5s 146us/step - loss: 0.0025 - val_loss: 0.0041\n",
      "Epoch 67/100\n",
      "36000/36000 [==============================] - 5s 146us/step - loss: 0.0025 - val_loss: 0.0041\n",
      "Epoch 68/100\n",
      "36000/36000 [==============================] - 5s 145us/step - loss: 0.0025 - val_loss: 0.0041\n",
      "Epoch 69/100\n",
      "36000/36000 [==============================] - 5s 145us/step - loss: 0.0025 - val_loss: 0.0041\n",
      "Epoch 70/100\n",
      "36000/36000 [==============================] - 5s 144us/step - loss: 0.0025 - val_loss: 0.0041\n",
      "Epoch 71/100\n",
      "36000/36000 [==============================] - 5s 147us/step - loss: 0.0025 - val_loss: 0.0041\n",
      "Epoch 72/100\n",
      "36000/36000 [==============================] - 5s 147us/step - loss: 0.0025 - val_loss: 0.0041\n",
      "Epoch 73/100\n",
      "36000/36000 [==============================] - 5s 151us/step - loss: 0.0025 - val_loss: 0.0041\n",
      "Epoch 74/100\n",
      "36000/36000 [==============================] - 5s 150us/step - loss: 0.0025 - val_loss: 0.0041\n",
      "Epoch 75/100\n",
      "36000/36000 [==============================] - 5s 150us/step - loss: 0.0025 - val_loss: 0.0041\n",
      "Epoch 76/100\n",
      "36000/36000 [==============================] - 6s 155us/step - loss: 0.0025 - val_loss: 0.0041\n",
      "Epoch 77/100\n",
      "36000/36000 [==============================] - 6s 157us/step - loss: 0.0025 - val_loss: 0.0041\n",
      "Epoch 78/100\n",
      "36000/36000 [==============================] - 6s 158us/step - loss: 0.0025 - val_loss: 0.0041\n",
      "Epoch 79/100\n",
      "36000/36000 [==============================] - 6s 156us/step - loss: 0.0025 - val_loss: 0.0041\n",
      "Epoch 80/100\n",
      "36000/36000 [==============================] - 6s 158us/step - loss: 0.0025 - val_loss: 0.0041\n",
      "Epoch 81/100\n",
      "36000/36000 [==============================] - 6s 157us/step - loss: 0.0025 - val_loss: 0.0041\n",
      "Epoch 82/100\n",
      "36000/36000 [==============================] - 6s 157us/step - loss: 0.0025 - val_loss: 0.0041\n",
      "Epoch 83/100\n",
      "36000/36000 [==============================] - 6s 157us/step - loss: 0.0025 - val_loss: 0.0041\n",
      "Epoch 84/100\n",
      "36000/36000 [==============================] - 6s 158us/step - loss: 0.0025 - val_loss: 0.0041\n",
      "Epoch 85/100\n",
      "36000/36000 [==============================] - 6s 157us/step - loss: 0.0025 - val_loss: 0.0041\n",
      "Epoch 86/100\n",
      "36000/36000 [==============================] - 6s 157us/step - loss: 0.0025 - val_loss: 0.0041\n",
      "Epoch 87/100\n",
      "36000/36000 [==============================] - 6s 157us/step - loss: 0.0025 - val_loss: 0.0041\n",
      "Epoch 88/100\n",
      "36000/36000 [==============================] - 6s 157us/step - loss: 0.0025 - val_loss: 0.0041\n",
      "Epoch 89/100\n",
      "36000/36000 [==============================] - 6s 157us/step - loss: 0.0025 - val_loss: 0.0041\n",
      "Epoch 90/100\n",
      "36000/36000 [==============================] - 6s 157us/step - loss: 0.0025 - val_loss: 0.0041s - loss: 0.\n",
      "Epoch 91/100\n",
      "36000/36000 [==============================] - 6s 157us/step - loss: 0.0025 - val_loss: 0.0041\n",
      "Epoch 92/100\n",
      "36000/36000 [==============================] - 6s 157us/step - loss: 0.0025 - val_loss: 0.0041\n",
      "Epoch 93/100\n",
      "36000/36000 [==============================] - 6s 157us/step - loss: 0.0025 - val_loss: 0.0041\n",
      "Epoch 94/100\n",
      "36000/36000 [==============================] - 6s 157us/step - loss: 0.0025 - val_loss: 0.0041\n",
      "Epoch 95/100\n",
      "36000/36000 [==============================] - 6s 157us/step - loss: 0.0025 - val_loss: 0.0041\n",
      "Epoch 96/100\n",
      "36000/36000 [==============================] - 6s 157us/step - loss: 0.0025 - val_loss: 0.0041\n",
      "Epoch 97/100\n",
      "36000/36000 [==============================] - 6s 157us/step - loss: 0.0025 - val_loss: 0.0041\n",
      "Epoch 98/100\n",
      "36000/36000 [==============================] - 6s 157us/step - loss: 0.0025 - val_loss: 0.0041\n",
      "Epoch 99/100\n",
      "36000/36000 [==============================] - 6s 157us/step - loss: 0.0025 - val_loss: 0.0041\n",
      "Epoch 100/100\n",
      "36000/36000 [==============================] - 6s 157us/step - loss: 0.0025 - val_loss: 0.0041\n"
     ]
    }
   ],
   "source": [
    "#RGB_train,RGB_train_time = training(RGB_feature,RGB_label,RGB_model,batch=128,epoch=100)"
   ]
  },
  {
   "cell_type": "code",
   "execution_count": 268,
   "metadata": {},
   "outputs": [
    {
     "data": {
      "image/png": "[encoded data removed]",
      "text/plain": [
       "<Figure size 432x288 with 1 Axes>"
      ]
     },
     "metadata": {},
     "output_type": "display_data"
    }
   ],
   "source": [
    "#show_error(RGB_train,valid=True)"
   ]
  },
  {
   "cell_type": "code",
   "execution_count": 206,
   "metadata": {},
   "outputs": [
    {
     "name": "stdout",
     "output_type": "stream",
     "text": [
      "Training mse: 0.0024530321784938377   psnr : 26.102967547489143\n",
      "Validation mse: 0.004112832445444332 psnr : 23.85858983051289 \n"
     ]
    }
   ],
   "source": [
    "#show_psnr(RGB_train,valid=True)"
   ]
  },
  {
   "cell_type": "markdown",
   "metadata": {},
   "source": [
    "#### Training  YCrCb channel"
   ]
  },
  {
   "cell_type": "code",
   "execution_count": 161,
   "metadata": {},
   "outputs": [],
   "source": [
    "#YCrCb_model = train_model(n1=64,n2=32,n3=3,k1=9,k2=1,k3=5, Patch_size=Patch_size,learn_rate=learn_rate,channel=3)"
   ]
  },
  {
   "cell_type": "code",
   "execution_count": 162,
   "metadata": {},
   "outputs": [
    {
     "name": "stdout",
     "output_type": "stream",
     "text": [
      "_________________________________________________________________\n",
      "Layer (type)                 Output Shape              Param #   \n",
      "=================================================================\n",
      "conv2d_48 (Conv2D)           (None, 33, 33, 64)        15616     \n",
      "_________________________________________________________________\n",
      "conv2d_49 (Conv2D)           (None, 33, 33, 32)        2080      \n",
      "_________________________________________________________________\n",
      "conv2d_50 (Conv2D)           (None, 33, 33, 3)         2403      \n",
      "=================================================================\n",
      "Total params: 20,099\n",
      "Trainable params: 20,099\n",
      "Non-trainable params: 0\n",
      "_________________________________________________________________\n",
      "None\n"
     ]
    }
   ],
   "source": [
    "#print(YCrCb_model.summary())"
   ]
  },
  {
   "cell_type": "code",
   "execution_count": 163,
   "metadata": {},
   "outputs": [
    {
     "name": "stdout",
     "output_type": "stream",
     "text": [
      "Train on 36000 samples, validate on 9000 samples\n",
      "Epoch 1/100\n",
      "36000/36000 [==============================] - 6s 163us/step - loss: 0.0178 - val_loss: 0.0032\n",
      "Epoch 2/100\n",
      "36000/36000 [==============================] - 5s 144us/step - loss: 0.0018 - val_loss: 0.0022\n",
      "Epoch 3/100\n",
      "36000/36000 [==============================] - 5s 144us/step - loss: 0.0013 - val_loss: 0.0019\n",
      "Epoch 4/100\n",
      "36000/36000 [==============================] - 5s 144us/step - loss: 0.0012 - val_loss: 0.0018\n",
      "Epoch 5/100\n",
      "36000/36000 [==============================] - 5s 144us/step - loss: 0.0011 - val_loss: 0.0017\n",
      "Epoch 6/100\n",
      "36000/36000 [==============================] - 5s 144us/step - loss: 0.0011 - val_loss: 0.0016\n",
      "Epoch 7/100\n",
      "36000/36000 [==============================] - 5s 145us/step - loss: 0.0010 - val_loss: 0.0016\n",
      "Epoch 8/100\n",
      "36000/36000 [==============================] - 5s 144us/step - loss: 0.0010 - val_loss: 0.0017\n",
      "Epoch 9/100\n",
      "36000/36000 [==============================] - 5s 144us/step - loss: 9.9608e-04 - val_loss: 0.0016\n",
      "Epoch 10/100\n",
      "36000/36000 [==============================] - 5s 144us/step - loss: 9.8195e-04 - val_loss: 0.0016\n",
      "Epoch 11/100\n",
      "36000/36000 [==============================] - 5s 144us/step - loss: 9.7447e-04 - val_loss: 0.0016\n",
      "Epoch 12/100\n",
      "36000/36000 [==============================] - 5s 144us/step - loss: 9.7425e-04 - val_loss: 0.0016\n",
      "Epoch 13/100\n",
      "36000/36000 [==============================] - 5s 144us/step - loss: 9.5920e-04 - val_loss: 0.0015\n",
      "Epoch 14/100\n",
      "36000/36000 [==============================] - 5s 144us/step - loss: 9.6220e-04 - val_loss: 0.0016\n",
      "Epoch 15/100\n",
      "36000/36000 [==============================] - 5s 144us/step - loss: 9.5445e-04 - val_loss: 0.0016\n",
      "Epoch 16/100\n",
      "36000/36000 [==============================] - 5s 144us/step - loss: 9.5040e-04 - val_loss: 0.0015\n",
      "Epoch 17/100\n",
      "36000/36000 [==============================] - 5s 144us/step - loss: 9.4792e-04 - val_loss: 0.0015\n",
      "Epoch 18/100\n",
      "36000/36000 [==============================] - 5s 144us/step - loss: 9.4131e-04 - val_loss: 0.0015\n",
      "Epoch 19/100\n",
      "36000/36000 [==============================] - 5s 144us/step - loss: 9.4577e-04 - val_loss: 0.0015\n",
      "Epoch 20/100\n",
      "36000/36000 [==============================] - 5s 145us/step - loss: 9.3958e-04 - val_loss: 0.0015\n",
      "Epoch 21/100\n",
      "36000/36000 [==============================] - 5s 147us/step - loss: 9.3537e-04 - val_loss: 0.0015\n",
      "Epoch 22/100\n",
      "36000/36000 [==============================] - 5s 145us/step - loss: 9.3564e-04 - val_loss: 0.0015\n",
      "Epoch 23/100\n",
      "36000/36000 [==============================] - 5s 148us/step - loss: 9.3568e-04 - val_loss: 0.0015\n",
      "Epoch 24/100\n",
      "36000/36000 [==============================] - 5s 148us/step - loss: 9.3222e-04 - val_loss: 0.0015\n",
      "Epoch 25/100\n",
      "36000/36000 [==============================] - 5s 148us/step - loss: 9.3232e-04 - val_loss: 0.0015\n",
      "Epoch 26/100\n",
      "36000/36000 [==============================] - 5s 146us/step - loss: 9.2700e-04 - val_loss: 0.0015\n",
      "Epoch 27/100\n",
      "36000/36000 [==============================] - 5s 147us/step - loss: 9.3006e-04 - val_loss: 0.0015\n",
      "Epoch 28/100\n",
      "36000/36000 [==============================] - 5s 148us/step - loss: 9.2284e-04 - val_loss: 0.0015\n",
      "Epoch 29/100\n",
      "36000/36000 [==============================] - 5s 147us/step - loss: 9.2615e-04 - val_loss: 0.0016\n",
      "Epoch 30/100\n",
      "36000/36000 [==============================] - 5s 146us/step - loss: 9.2448e-04 - val_loss: 0.0015\n",
      "Epoch 31/100\n",
      "36000/36000 [==============================] - 5s 145us/step - loss: 9.2310e-04 - val_loss: 0.0015\n",
      "Epoch 32/100\n",
      "36000/36000 [==============================] - 5s 144us/step - loss: 9.2235e-04 - val_loss: 0.0015\n",
      "Epoch 33/100\n",
      "36000/36000 [==============================] - 5s 144us/step - loss: 9.1692e-04 - val_loss: 0.0015\n",
      "Epoch 34/100\n",
      "36000/36000 [==============================] - 5s 146us/step - loss: 9.2041e-04 - val_loss: 0.0015\n",
      "Epoch 35/100\n",
      "36000/36000 [==============================] - 5s 145us/step - loss: 9.1610e-04 - val_loss: 0.0015\n",
      "Epoch 36/100\n",
      "36000/36000 [==============================] - 5s 146us/step - loss: 9.1742e-04 - val_loss: 0.0015\n",
      "Epoch 37/100\n",
      "36000/36000 [==============================] - 5s 146us/step - loss: 9.1619e-04 - val_loss: 0.0015\n",
      "Epoch 38/100\n",
      "36000/36000 [==============================] - 5s 148us/step - loss: 9.1160e-04 - val_loss: 0.0015\n",
      "Epoch 39/100\n",
      "36000/36000 [==============================] - 5s 148us/step - loss: 9.1299e-04 - val_loss: 0.0015\n",
      "Epoch 40/100\n",
      "36000/36000 [==============================] - 5s 150us/step - loss: 9.1267e-04 - val_loss: 0.0015\n",
      "Epoch 41/100\n",
      "36000/36000 [==============================] - 5s 149us/step - loss: 9.0921e-04 - val_loss: 0.0015\n",
      "Epoch 42/100\n",
      "36000/36000 [==============================] - 5s 149us/step - loss: 9.0884e-04 - val_loss: 0.0015\n",
      "Epoch 43/100\n",
      "36000/36000 [==============================] - 5s 148us/step - loss: 9.0816e-04 - val_loss: 0.0015\n",
      "Epoch 44/100\n",
      "36000/36000 [==============================] - 5s 149us/step - loss: 9.0674e-04 - val_loss: 0.0015\n",
      "Epoch 45/100\n",
      "36000/36000 [==============================] - 5s 148us/step - loss: 9.0369e-04 - val_loss: 0.0015\n",
      "Epoch 46/100\n",
      "36000/36000 [==============================] - 5s 146us/step - loss: 9.0604e-04 - val_loss: 0.0015\n",
      "Epoch 47/100\n",
      "36000/36000 [==============================] - 5s 147us/step - loss: 9.0259e-04 - val_loss: 0.0015\n",
      "Epoch 48/100\n",
      "36000/36000 [==============================] - 5s 149us/step - loss: 9.0342e-04 - val_loss: 0.0015\n",
      "Epoch 49/100\n",
      "36000/36000 [==============================] - 5s 149us/step - loss: 9.0106e-04 - val_loss: 0.0015\n",
      "Epoch 50/100\n",
      "36000/36000 [==============================] - 5s 149us/step - loss: 9.0134e-04 - val_loss: 0.0015\n",
      "Epoch 51/100\n",
      "36000/36000 [==============================] - 5s 150us/step - loss: 8.9852e-04 - val_loss: 0.0015\n",
      "Epoch 52/100\n",
      "36000/36000 [==============================] - 5s 151us/step - loss: 8.9965e-04 - val_loss: 0.0015\n",
      "Epoch 53/100\n",
      "36000/36000 [==============================] - 5s 152us/step - loss: 8.9799e-04 - val_loss: 0.0015\n",
      "Epoch 54/100\n",
      "36000/36000 [==============================] - 5s 151us/step - loss: 8.9821e-04 - val_loss: 0.0015\n",
      "Epoch 55/100\n",
      "36000/36000 [==============================] - 5s 146us/step - loss: 8.9844e-04 - val_loss: 0.0015\n",
      "Epoch 56/100\n",
      "36000/36000 [==============================] - 5s 146us/step - loss: 8.9529e-04 - val_loss: 0.0015\n",
      "Epoch 57/100\n",
      "36000/36000 [==============================] - 5s 145us/step - loss: 8.9649e-04 - val_loss: 0.0015\n",
      "Epoch 58/100\n",
      "36000/36000 [==============================] - 5s 146us/step - loss: 8.9775e-04 - val_loss: 0.0015\n",
      "Epoch 59/100\n",
      "36000/36000 [==============================] - 5s 146us/step - loss: 8.9059e-04 - val_loss: 0.0015\n",
      "Epoch 60/100\n",
      "36000/36000 [==============================] - 5s 146us/step - loss: 8.9341e-04 - val_loss: 0.0015\n",
      "Epoch 61/100\n",
      "36000/36000 [==============================] - 5s 145us/step - loss: 8.9256e-04 - val_loss: 0.0015\n",
      "Epoch 62/100\n",
      "36000/36000 [==============================] - 5s 145us/step - loss: 8.9229e-04 - val_loss: 0.0015\n",
      "Epoch 63/100\n",
      "36000/36000 [==============================] - 5s 145us/step - loss: 8.9054e-04 - val_loss: 0.0015\n",
      "Epoch 64/100\n",
      "36000/36000 [==============================] - 5s 144us/step - loss: 8.9039e-04 - val_loss: 0.0015\n",
      "Epoch 65/100\n",
      "36000/36000 [==============================] - 5s 146us/step - loss: 8.9142e-04 - val_loss: 0.0015\n",
      "Epoch 66/100\n",
      "36000/36000 [==============================] - 5s 146us/step - loss: 8.8857e-04 - val_loss: 0.0015\n",
      "Epoch 67/100\n",
      "36000/36000 [==============================] - 5s 147us/step - loss: 8.8751e-04 - val_loss: 0.0015\n",
      "Epoch 68/100\n",
      "36000/36000 [==============================] - 5s 148us/step - loss: 8.8919e-04 - val_loss: 0.0015\n",
      "Epoch 69/100\n",
      "36000/36000 [==============================] - 5s 145us/step - loss: 8.8491e-04 - val_loss: 0.0015\n",
      "Epoch 70/100\n",
      "36000/36000 [==============================] - 5s 145us/step - loss: 8.8766e-04 - val_loss: 0.0015\n",
      "Epoch 71/100\n",
      "36000/36000 [==============================] - 5s 146us/step - loss: 8.8508e-04 - val_loss: 0.0015\n",
      "Epoch 72/100\n",
      "36000/36000 [==============================] - 5s 146us/step - loss: 8.8431e-04 - val_loss: 0.0014\n",
      "Epoch 73/100\n",
      "36000/36000 [==============================] - 5s 146us/step - loss: 8.8562e-04 - val_loss: 0.0015\n",
      "Epoch 74/100\n"
     ]
    },
    {
     "name": "stdout",
     "output_type": "stream",
     "text": [
      "36000/36000 [==============================] - 5s 144us/step - loss: 8.8334e-04 - val_loss: 0.0015\n",
      "Epoch 75/100\n",
      "36000/36000 [==============================] - 5s 147us/step - loss: 8.8423e-04 - val_loss: 0.0014\n",
      "Epoch 76/100\n",
      "36000/36000 [==============================] - 5s 146us/step - loss: 8.8210e-04 - val_loss: 0.0014\n",
      "Epoch 77/100\n",
      "36000/36000 [==============================] - 5s 146us/step - loss: 8.8194e-04 - val_loss: 0.0014\n",
      "Epoch 78/100\n",
      "36000/36000 [==============================] - 5s 147us/step - loss: 8.8202e-04 - val_loss: 0.0015\n",
      "Epoch 79/100\n",
      "36000/36000 [==============================] - 5s 147us/step - loss: 8.8233e-04 - val_loss: 0.0014\n",
      "Epoch 80/100\n",
      "36000/36000 [==============================] - 5s 147us/step - loss: 8.8153e-04 - val_loss: 0.0014\n",
      "Epoch 81/100\n",
      "36000/36000 [==============================] - 5s 148us/step - loss: 8.8090e-04 - val_loss: 0.0015\n",
      "Epoch 82/100\n",
      "36000/36000 [==============================] - 5s 147us/step - loss: 8.8066e-04 - val_loss: 0.0014\n",
      "Epoch 83/100\n",
      "36000/36000 [==============================] - 5s 149us/step - loss: 8.7947e-04 - val_loss: 0.0014\n",
      "Epoch 84/100\n",
      "36000/36000 [==============================] - 5s 148us/step - loss: 8.7934e-04 - val_loss: 0.0014\n",
      "Epoch 85/100\n",
      "36000/36000 [==============================] - 5s 148us/step - loss: 8.7945e-04 - val_loss: 0.0015\n",
      "Epoch 86/100\n",
      "36000/36000 [==============================] - 5s 147us/step - loss: 8.7844e-04 - val_loss: 0.0014\n",
      "Epoch 87/100\n",
      "36000/36000 [==============================] - 5s 147us/step - loss: 8.7767e-04 - val_loss: 0.0015\n",
      "Epoch 88/100\n",
      "36000/36000 [==============================] - 5s 147us/step - loss: 8.7867e-04 - val_loss: 0.0015\n",
      "Epoch 89/100\n",
      "36000/36000 [==============================] - 5s 147us/step - loss: 8.7760e-04 - val_loss: 0.0014\n",
      "Epoch 90/100\n",
      "36000/36000 [==============================] - 5s 148us/step - loss: 8.7695e-04 - val_loss: 0.0014\n",
      "Epoch 91/100\n",
      "36000/36000 [==============================] - 5s 148us/step - loss: 8.7654e-04 - val_loss: 0.0014\n",
      "Epoch 92/100\n",
      "36000/36000 [==============================] - 5s 147us/step - loss: 8.7469e-04 - val_loss: 0.0014\n",
      "Epoch 93/100\n",
      "36000/36000 [==============================] - 5s 147us/step - loss: 8.7666e-04 - val_loss: 0.0014\n",
      "Epoch 94/100\n",
      "36000/36000 [==============================] - 5s 147us/step - loss: 8.7356e-04 - val_loss: 0.0014\n",
      "Epoch 95/100\n",
      "36000/36000 [==============================] - 5s 151us/step - loss: 8.7401e-04 - val_loss: 0.0014\n",
      "Epoch 96/100\n",
      "36000/36000 [==============================] - 5s 147us/step - loss: 8.7255e-04 - val_loss: 0.0014\n",
      "Epoch 97/100\n",
      "36000/36000 [==============================] - 5s 151us/step - loss: 8.7385e-04 - val_loss: 0.0014\n",
      "Epoch 98/100\n",
      "36000/36000 [==============================] - 5s 151us/step - loss: 8.7134e-04 - val_loss: 0.0014\n",
      "Epoch 99/100\n",
      "36000/36000 [==============================] - 5s 149us/step - loss: 8.7193e-04 - val_loss: 0.0014\n",
      "Epoch 100/100\n",
      "36000/36000 [==============================] - 5s 148us/step - loss: 8.7150e-04 - val_loss: 0.0014\n"
     ]
    }
   ],
   "source": [
    "#YCrCb_train , YCrCb_train_time = training(YCrCb_feature,YCrCb_label,YCrCb_model,batch=128,epoch=100)"
   ]
  },
  {
   "cell_type": "code",
   "execution_count": 269,
   "metadata": {},
   "outputs": [
    {
     "data": {
      "image/png": "[encoded data removed]",
      "text/plain": [
       "<Figure size 432x288 with 1 Axes>"
      ]
     },
     "metadata": {},
     "output_type": "display_data"
    }
   ],
   "source": [
    "#show_error(YCrCb_train,valid=True)"
   ]
  },
  {
   "cell_type": "code",
   "execution_count": 207,
   "metadata": {},
   "outputs": [
    {
     "name": "stdout",
     "output_type": "stream",
     "text": [
      "Training mse: 0.0008714968221676018   psnr : 30.597341921656817\n",
      "Validation mse: 0.0014337077744615574 psnr : 28.43539359736457 \n"
     ]
    }
   ],
   "source": [
    "#show_psnr(YCrCb_train,valid=True)"
   ]
  },
  {
   "cell_type": "markdown",
   "metadata": {},
   "source": [
    "#### Training only Y color channel"
   ]
  },
  {
   "cell_type": "code",
   "execution_count": 166,
   "metadata": {},
   "outputs": [],
   "source": [
    "#Y_model = train_model(n1=64,n2=32,n3=1,k1=9,k2=1,k3=5, Patch_size=Patch_size,learn_rate=learn_rate,channel=1)"
   ]
  },
  {
   "cell_type": "code",
   "execution_count": 133,
   "metadata": {},
   "outputs": [
    {
     "name": "stdout",
     "output_type": "stream",
     "text": [
      "_________________________________________________________________\n",
      "Layer (type)                 Output Shape              Param #   \n",
      "=================================================================\n",
      "conv2d_42 (Conv2D)           (None, 33, 33, 64)        5248      \n",
      "_________________________________________________________________\n",
      "conv2d_43 (Conv2D)           (None, 33, 33, 32)        2080      \n",
      "_________________________________________________________________\n",
      "conv2d_44 (Conv2D)           (None, 33, 33, 1)         801       \n",
      "=================================================================\n",
      "Total params: 8,129\n",
      "Trainable params: 8,129\n",
      "Non-trainable params: 0\n",
      "_________________________________________________________________\n",
      "None\n"
     ]
    }
   ],
   "source": [
    "#print(Y_model.summary())"
   ]
  },
  {
   "cell_type": "code",
   "execution_count": 167,
   "metadata": {},
   "outputs": [
    {
     "name": "stdout",
     "output_type": "stream",
     "text": [
      "Train on 36000 samples, validate on 9000 samples\n",
      "Epoch 1/100\n",
      "36000/36000 [==============================] - 4s 124us/step - loss: 0.0113 - val_loss: 0.0048\n",
      "Epoch 2/100\n",
      "36000/36000 [==============================] - 4s 102us/step - loss: 0.0028 - val_loss: 0.0043\n",
      "Epoch 3/100\n",
      "36000/36000 [==============================] - 4s 102us/step - loss: 0.0026 - val_loss: 0.0041\n",
      "Epoch 4/100\n",
      "36000/36000 [==============================] - 4s 106us/step - loss: 0.0025 - val_loss: 0.0040\n",
      "Epoch 5/100\n",
      "36000/36000 [==============================] - 4s 104us/step - loss: 0.0024 - val_loss: 0.0039\n",
      "Epoch 6/100\n",
      "36000/36000 [==============================] - 4s 104us/step - loss: 0.0024 - val_loss: 0.0038\n",
      "Epoch 7/100\n",
      "36000/36000 [==============================] - 4s 103us/step - loss: 0.0023 - val_loss: 0.0038\n",
      "Epoch 8/100\n",
      "36000/36000 [==============================] - 4s 103us/step - loss: 0.0023 - val_loss: 0.0038\n",
      "Epoch 9/100\n",
      "36000/36000 [==============================] - 4s 104us/step - loss: 0.0023 - val_loss: 0.0038\n",
      "Epoch 10/100\n",
      "36000/36000 [==============================] - 4s 105us/step - loss: 0.0023 - val_loss: 0.0038\n",
      "Epoch 11/100\n",
      "36000/36000 [==============================] - 4s 105us/step - loss: 0.0023 - val_loss: 0.0038\n",
      "Epoch 12/100\n",
      "36000/36000 [==============================] - 4s 103us/step - loss: 0.0023 - val_loss: 0.0037\n",
      "Epoch 13/100\n",
      "36000/36000 [==============================] - 4s 104us/step - loss: 0.0023 - val_loss: 0.0037\n",
      "Epoch 14/100\n",
      "36000/36000 [==============================] - 4s 104us/step - loss: 0.0023 - val_loss: 0.0037\n",
      "Epoch 15/100\n",
      "36000/36000 [==============================] - 4s 104us/step - loss: 0.0023 - val_loss: 0.0037\n",
      "Epoch 16/100\n",
      "36000/36000 [==============================] - 4s 104us/step - loss: 0.0023 - val_loss: 0.0037\n",
      "Epoch 17/100\n",
      "36000/36000 [==============================] - 4s 105us/step - loss: 0.0023 - val_loss: 0.0037\n",
      "Epoch 18/100\n",
      "36000/36000 [==============================] - 4s 106us/step - loss: 0.0022 - val_loss: 0.0037\n",
      "Epoch 19/100\n",
      "36000/36000 [==============================] - 4s 103us/step - loss: 0.0022 - val_loss: 0.0037\n",
      "Epoch 20/100\n",
      "36000/36000 [==============================] - 4s 102us/step - loss: 0.0022 - val_loss: 0.0037\n",
      "Epoch 21/100\n",
      "36000/36000 [==============================] - 4s 103us/step - loss: 0.0022 - val_loss: 0.0037\n",
      "Epoch 22/100\n",
      "36000/36000 [==============================] - 4s 102us/step - loss: 0.0022 - val_loss: 0.0036\n",
      "Epoch 23/100\n",
      "36000/36000 [==============================] - 4s 103us/step - loss: 0.0022 - val_loss: 0.0036\n",
      "Epoch 24/100\n",
      "36000/36000 [==============================] - 4s 102us/step - loss: 0.0022 - val_loss: 0.0036\n",
      "Epoch 25/100\n",
      "36000/36000 [==============================] - 4s 103us/step - loss: 0.0022 - val_loss: 0.0036\n",
      "Epoch 26/100\n",
      "36000/36000 [==============================] - 4s 103us/step - loss: 0.0022 - val_loss: 0.0036\n",
      "Epoch 27/100\n",
      "36000/36000 [==============================] - 4s 102us/step - loss: 0.0022 - val_loss: 0.0036\n",
      "Epoch 28/100\n",
      "36000/36000 [==============================] - 4s 103us/step - loss: 0.0022 - val_loss: 0.0036\n",
      "Epoch 29/100\n",
      "36000/36000 [==============================] - 4s 102us/step - loss: 0.0022 - val_loss: 0.0037\n",
      "Epoch 30/100\n",
      "36000/36000 [==============================] - 4s 102us/step - loss: 0.0022 - val_loss: 0.0036\n",
      "Epoch 31/100\n",
      "36000/36000 [==============================] - 4s 102us/step - loss: 0.0022 - val_loss: 0.0036\n",
      "Epoch 32/100\n",
      "36000/36000 [==============================] - 4s 103us/step - loss: 0.0022 - val_loss: 0.0036\n",
      "Epoch 33/100\n",
      "36000/36000 [==============================] - 4s 103us/step - loss: 0.0022 - val_loss: 0.0036\n",
      "Epoch 34/100\n",
      "36000/36000 [==============================] - 4s 103us/step - loss: 0.0022 - val_loss: 0.0036\n",
      "Epoch 35/100\n",
      "36000/36000 [==============================] - 4s 102us/step - loss: 0.0022 - val_loss: 0.0036\n",
      "Epoch 36/100\n",
      "36000/36000 [==============================] - 4s 103us/step - loss: 0.0022 - val_loss: 0.0036\n",
      "Epoch 37/100\n",
      "36000/36000 [==============================] - 4s 103us/step - loss: 0.0022 - val_loss: 0.0036\n",
      "Epoch 38/100\n",
      "36000/36000 [==============================] - 4s 102us/step - loss: 0.0022 - val_loss: 0.0036\n",
      "Epoch 39/100\n",
      "36000/36000 [==============================] - 4s 102us/step - loss: 0.0022 - val_loss: 0.0036\n",
      "Epoch 40/100\n",
      "36000/36000 [==============================] - 4s 103us/step - loss: 0.0022 - val_loss: 0.0036\n",
      "Epoch 41/100\n",
      "36000/36000 [==============================] - 4s 103us/step - loss: 0.0022 - val_loss: 0.0036\n",
      "Epoch 42/100\n",
      "36000/36000 [==============================] - 4s 103us/step - loss: 0.0022 - val_loss: 0.0036\n",
      "Epoch 43/100\n",
      "36000/36000 [==============================] - 4s 103us/step - loss: 0.0022 - val_loss: 0.0036\n",
      "Epoch 44/100\n",
      "36000/36000 [==============================] - 4s 103us/step - loss: 0.0021 - val_loss: 0.0036\n",
      "Epoch 45/100\n",
      "36000/36000 [==============================] - 4s 102us/step - loss: 0.0022 - val_loss: 0.0036\n",
      "Epoch 46/100\n",
      "36000/36000 [==============================] - 4s 104us/step - loss: 0.0021 - val_loss: 0.0036\n",
      "Epoch 47/100\n",
      "36000/36000 [==============================] - 4s 103us/step - loss: 0.0021 - val_loss: 0.0036\n",
      "Epoch 48/100\n",
      "36000/36000 [==============================] - 4s 103us/step - loss: 0.0021 - val_loss: 0.0036\n",
      "Epoch 49/100\n",
      "36000/36000 [==============================] - 4s 102us/step - loss: 0.0021 - val_loss: 0.0036\n",
      "Epoch 50/100\n",
      "36000/36000 [==============================] - 4s 103us/step - loss: 0.0021 - val_loss: 0.0036\n",
      "Epoch 51/100\n",
      "36000/36000 [==============================] - 4s 102us/step - loss: 0.0021 - val_loss: 0.0036\n",
      "Epoch 52/100\n",
      "36000/36000 [==============================] - 4s 103us/step - loss: 0.0021 - val_loss: 0.0036\n",
      "Epoch 53/100\n",
      "36000/36000 [==============================] - 4s 103us/step - loss: 0.0021 - val_loss: 0.0036\n",
      "Epoch 54/100\n",
      "36000/36000 [==============================] - 4s 102us/step - loss: 0.0021 - val_loss: 0.0035\n",
      "Epoch 55/100\n",
      "36000/36000 [==============================] - 4s 102us/step - loss: 0.0021 - val_loss: 0.0035\n",
      "Epoch 56/100\n",
      "36000/36000 [==============================] - 4s 102us/step - loss: 0.0021 - val_loss: 0.0036\n",
      "Epoch 57/100\n",
      "36000/36000 [==============================] - 4s 102us/step - loss: 0.0021 - val_loss: 0.0036\n",
      "Epoch 58/100\n",
      "36000/36000 [==============================] - 4s 102us/step - loss: 0.0021 - val_loss: 0.0036\n",
      "Epoch 59/100\n",
      "36000/36000 [==============================] - 4s 102us/step - loss: 0.0021 - val_loss: 0.0036\n",
      "Epoch 60/100\n",
      "36000/36000 [==============================] - 4s 102us/step - loss: 0.0021 - val_loss: 0.0035\n",
      "Epoch 61/100\n",
      "36000/36000 [==============================] - 4s 102us/step - loss: 0.0021 - val_loss: 0.0035\n",
      "Epoch 62/100\n",
      "36000/36000 [==============================] - 4s 102us/step - loss: 0.0021 - val_loss: 0.0035\n",
      "Epoch 63/100\n",
      "36000/36000 [==============================] - 4s 102us/step - loss: 0.0021 - val_loss: 0.0035\n",
      "Epoch 64/100\n",
      "36000/36000 [==============================] - 4s 102us/step - loss: 0.0021 - val_loss: 0.0035\n",
      "Epoch 65/100\n",
      "36000/36000 [==============================] - 4s 102us/step - loss: 0.0021 - val_loss: 0.0035\n",
      "Epoch 66/100\n",
      "36000/36000 [==============================] - 4s 102us/step - loss: 0.0021 - val_loss: 0.0035\n",
      "Epoch 67/100\n",
      "36000/36000 [==============================] - 4s 102us/step - loss: 0.0021 - val_loss: 0.0035\n",
      "Epoch 68/100\n",
      "36000/36000 [==============================] - 4s 102us/step - loss: 0.0021 - val_loss: 0.0035\n",
      "Epoch 69/100\n",
      "36000/36000 [==============================] - 4s 102us/step - loss: 0.0021 - val_loss: 0.0035\n",
      "Epoch 70/100\n",
      "36000/36000 [==============================] - 4s 102us/step - loss: 0.0021 - val_loss: 0.0035\n",
      "Epoch 71/100\n",
      "36000/36000 [==============================] - 4s 102us/step - loss: 0.0021 - val_loss: 0.0035\n",
      "Epoch 72/100\n",
      "36000/36000 [==============================] - 4s 102us/step - loss: 0.0021 - val_loss: 0.0035\n",
      "Epoch 73/100\n",
      "36000/36000 [==============================] - 4s 102us/step - loss: 0.0021 - val_loss: 0.0035\n",
      "Epoch 74/100\n",
      "36000/36000 [==============================] - 4s 103us/step - loss: 0.0021 - val_loss: 0.0035\n",
      "Epoch 75/100\n",
      "36000/36000 [==============================] - 4s 102us/step - loss: 0.0021 - val_loss: 0.0035\n",
      "Epoch 76/100\n",
      "36000/36000 [==============================] - 4s 102us/step - loss: 0.0021 - val_loss: 0.0035\n",
      "Epoch 77/100\n",
      "36000/36000 [==============================] - 4s 102us/step - loss: 0.0021 - val_loss: 0.0035\n",
      "Epoch 78/100\n",
      "36000/36000 [==============================] - 4s 101us/step - loss: 0.0021 - val_loss: 0.0036\n",
      "Epoch 79/100\n",
      "36000/36000 [==============================] - 4s 102us/step - loss: 0.0021 - val_loss: 0.0035\n",
      "Epoch 80/100\n",
      "36000/36000 [==============================] - 4s 102us/step - loss: 0.0021 - val_loss: 0.0035\n",
      "Epoch 81/100\n",
      "36000/36000 [==============================] - 4s 102us/step - loss: 0.0021 - val_loss: 0.0035\n",
      "Epoch 82/100\n",
      "36000/36000 [==============================] - 4s 101us/step - loss: 0.0021 - val_loss: 0.0035\n",
      "Epoch 83/100\n",
      "36000/36000 [==============================] - 4s 102us/step - loss: 0.0021 - val_loss: 0.0035\n",
      "Epoch 84/100\n",
      "36000/36000 [==============================] - 4s 102us/step - loss: 0.0021 - val_loss: 0.0035\n",
      "Epoch 85/100\n",
      "36000/36000 [==============================] - 4s 102us/step - loss: 0.0021 - val_loss: 0.0035\n",
      "Epoch 86/100\n",
      "36000/36000 [==============================] - 4s 102us/step - loss: 0.0021 - val_loss: 0.0035\n",
      "Epoch 87/100\n",
      "36000/36000 [==============================] - 4s 102us/step - loss: 0.0021 - val_loss: 0.0035\n",
      "Epoch 88/100\n",
      "36000/36000 [==============================] - 4s 102us/step - loss: 0.0021 - val_loss: 0.0035\n",
      "Epoch 89/100\n",
      "36000/36000 [==============================] - 4s 102us/step - loss: 0.0021 - val_loss: 0.0035\n",
      "Epoch 90/100\n",
      "36000/36000 [==============================] - 4s 102us/step - loss: 0.0021 - val_loss: 0.0035\n",
      "Epoch 91/100\n",
      "36000/36000 [==============================] - 4s 103us/step - loss: 0.0021 - val_loss: 0.0035\n",
      "Epoch 92/100\n",
      "36000/36000 [==============================] - 4s 102us/step - loss: 0.0021 - val_loss: 0.0035\n",
      "Epoch 93/100\n",
      "36000/36000 [==============================] - 4s 102us/step - loss: 0.0021 - val_loss: 0.0035\n",
      "Epoch 94/100\n",
      "36000/36000 [==============================] - 4s 102us/step - loss: 0.0021 - val_loss: 0.0035\n",
      "Epoch 95/100\n",
      "36000/36000 [==============================] - 4s 102us/step - loss: 0.0021 - val_loss: 0.0035\n",
      "Epoch 96/100\n",
      "36000/36000 [==============================] - 4s 102us/step - loss: 0.0021 - val_loss: 0.0035\n",
      "Epoch 97/100\n",
      "36000/36000 [==============================] - 4s 102us/step - loss: 0.0021 - val_loss: 0.0035\n",
      "Epoch 98/100\n",
      "36000/36000 [==============================] - 4s 102us/step - loss: 0.0021 - val_loss: 0.0035\n",
      "Epoch 99/100\n",
      "36000/36000 [==============================] - 4s 102us/step - loss: 0.0021 - val_loss: 0.0035\n",
      "Epoch 100/100\n",
      "36000/36000 [==============================] - 4s 102us/step - loss: 0.0021 - val_loss: 0.0035\n"
     ]
    }
   ],
   "source": [
    "#Y_train , Y_train_time = training(Y_feature,Y_label,Y_model,batch=128,epoch=100)"
   ]
  },
  {
   "cell_type": "code",
   "execution_count": 270,
   "metadata": {},
   "outputs": [
    {
     "data": {
      "image/png": "[encoded data removed]",
      "text/plain": [
       "<Figure size 432x288 with 1 Axes>"
      ]
     },
     "metadata": {},
     "output_type": "display_data"
    }
   ],
   "source": [
    "#show_error(Y_train,valid=True)"
   ]
  },
  {
   "cell_type": "code",
   "execution_count": 204,
   "metadata": {},
   "outputs": [
    {
     "name": "stdout",
     "output_type": "stream",
     "text": [
      "Training mse: 0.0021034414246678354   psnr : 26.770695774419625\n",
      "Validation mse: 0.003515105029154155 psnr : 24.540616940010196 \n"
     ]
    }
   ],
   "source": [
    "#show_psnr(Y_train,valid=True)"
   ]
  },
  {
   "cell_type": "markdown",
   "metadata": {},
   "source": [
    "### Train images on YCrCb color channel with entire training set"
   ]
  },
  {
   "cell_type": "code",
   "execution_count": 170,
   "metadata": {},
   "outputs": [],
   "source": [
    "YCrCb_model_entire = train_model(n1=64,n2=32,n3=3,k1=9,k2=1,k3=5, Patch_size=Patch_size,learn_rate=learn_rate,channel=3)"
   ]
  },
  {
   "cell_type": "code",
   "execution_count": 172,
   "metadata": {},
   "outputs": [
    {
     "name": "stdout",
     "output_type": "stream",
     "text": [
      "Epoch 1/100\n",
      "45000/45000 [==============================] - 6s 141us/step - loss: 0.0092\n",
      "Epoch 2/100\n",
      "45000/45000 [==============================] - 6s 130us/step - loss: 0.0016\n",
      "Epoch 3/100\n",
      "45000/45000 [==============================] - 6s 129us/step - loss: 0.0013\n",
      "Epoch 4/100\n",
      "45000/45000 [==============================] - 6s 131us/step - loss: 0.0012\n",
      "Epoch 5/100\n",
      "45000/45000 [==============================] - 6s 127us/step - loss: 0.0012\n",
      "Epoch 6/100\n",
      "45000/45000 [==============================] - 6s 127us/step - loss: 0.0011\n",
      "Epoch 7/100\n",
      "45000/45000 [==============================] - 6s 129us/step - loss: 0.0011 0s\n",
      "Epoch 8/100\n",
      "45000/45000 [==============================] - 6s 129us/step - loss: 0.0011\n",
      "Epoch 9/100\n",
      "45000/45000 [==============================] - 6s 133us/step - loss: 0.0011\n",
      "Epoch 10/100\n",
      "45000/45000 [==============================] - 6s 130us/step - loss: 0.0011\n",
      "Epoch 11/100\n",
      "45000/45000 [==============================] - 6s 130us/step - loss: 0.0011\n",
      "Epoch 12/100\n",
      "45000/45000 [==============================] - 6s 129us/step - loss: 0.0011\n",
      "Epoch 13/100\n",
      "45000/45000 [==============================] - 6s 128us/step - loss: 0.0011\n",
      "Epoch 14/100\n",
      "45000/45000 [==============================] - 6s 129us/step - loss: 0.0011\n",
      "Epoch 15/100\n",
      "45000/45000 [==============================] - 6s 129us/step - loss: 0.0011\n",
      "Epoch 16/100\n",
      "45000/45000 [==============================] - 6s 130us/step - loss: 0.0011\n",
      "Epoch 17/100\n",
      "45000/45000 [==============================] - 6s 131us/step - loss: 0.0011\n",
      "Epoch 18/100\n",
      "45000/45000 [==============================] - 6s 132us/step - loss: 0.0010\n",
      "Epoch 19/100\n",
      "45000/45000 [==============================] - 6s 133us/step - loss: 0.0010\n",
      "Epoch 20/100\n",
      "45000/45000 [==============================] - 6s 131us/step - loss: 0.0010\n",
      "Epoch 21/100\n",
      "45000/45000 [==============================] - 6s 128us/step - loss: 0.0010\n",
      "Epoch 22/100\n",
      "45000/45000 [==============================] - 6s 130us/step - loss: 0.0010\n",
      "Epoch 23/100\n",
      "45000/45000 [==============================] - 6s 131us/step - loss: 0.0010\n",
      "Epoch 24/100\n",
      "45000/45000 [==============================] - 6s 128us/step - loss: 0.0010\n",
      "Epoch 25/100\n",
      "45000/45000 [==============================] - 6s 130us/step - loss: 0.0010\n",
      "Epoch 26/100\n",
      "45000/45000 [==============================] - 6s 128us/step - loss: 0.0010\n",
      "Epoch 27/100\n",
      "45000/45000 [==============================] - 6s 127us/step - loss: 0.0010\n",
      "Epoch 28/100\n",
      "45000/45000 [==============================] - 6s 126us/step - loss: 0.0010\n",
      "Epoch 29/100\n",
      "45000/45000 [==============================] - 6s 127us/step - loss: 0.0010\n",
      "Epoch 30/100\n",
      "45000/45000 [==============================] - 6s 127us/step - loss: 0.0010\n",
      "Epoch 31/100\n",
      "45000/45000 [==============================] - 6s 126us/step - loss: 0.0010\n",
      "Epoch 32/100\n",
      "45000/45000 [==============================] - 6s 127us/step - loss: 0.0010\n",
      "Epoch 33/100\n",
      "45000/45000 [==============================] - 6s 126us/step - loss: 0.0010\n",
      "Epoch 34/100\n",
      "45000/45000 [==============================] - 6s 127us/step - loss: 0.0010\n",
      "Epoch 35/100\n",
      "45000/45000 [==============================] - 6s 127us/step - loss: 0.0010\n",
      "Epoch 36/100\n",
      "45000/45000 [==============================] - 6s 127us/step - loss: 0.0010\n",
      "Epoch 37/100\n",
      "45000/45000 [==============================] - 6s 127us/step - loss: 0.0010\n",
      "Epoch 38/100\n",
      "45000/45000 [==============================] - 6s 127us/step - loss: 0.0010\n",
      "Epoch 39/100\n",
      "45000/45000 [==============================] - 6s 127us/step - loss: 0.0010\n",
      "Epoch 40/100\n",
      "45000/45000 [==============================] - 6s 127us/step - loss: 0.0010\n",
      "Epoch 41/100\n",
      "45000/45000 [==============================] - 6s 126us/step - loss: 0.0010\n",
      "Epoch 42/100\n",
      "45000/45000 [==============================] - 6s 127us/step - loss: 0.0010\n",
      "Epoch 43/100\n",
      "45000/45000 [==============================] - 6s 127us/step - loss: 0.0010\n",
      "Epoch 44/100\n",
      "45000/45000 [==============================] - 6s 126us/step - loss: 0.0010\n",
      "Epoch 45/100\n",
      "45000/45000 [==============================] - 6s 127us/step - loss: 0.0010\n",
      "Epoch 46/100\n",
      "45000/45000 [==============================] - 6s 127us/step - loss: 0.0010\n",
      "Epoch 47/100\n",
      "45000/45000 [==============================] - 6s 127us/step - loss: 0.0010\n",
      "Epoch 48/100\n",
      "45000/45000 [==============================] - 6s 126us/step - loss: 0.0010\n",
      "Epoch 49/100\n",
      "45000/45000 [==============================] - 6s 127us/step - loss: 0.0010\n",
      "Epoch 50/100\n",
      "45000/45000 [==============================] - 6s 131us/step - loss: 0.0010\n",
      "Epoch 51/100\n",
      "45000/45000 [==============================] - 6s 128us/step - loss: 0.0010\n",
      "Epoch 52/100\n",
      "45000/45000 [==============================] - 6s 130us/step - loss: 0.0010\n",
      "Epoch 53/100\n",
      "45000/45000 [==============================] - 6s 131us/step - loss: 0.0010\n",
      "Epoch 54/100\n",
      "45000/45000 [==============================] - 6s 131us/step - loss: 0.0010\n",
      "Epoch 55/100\n",
      "45000/45000 [==============================] - 6s 129us/step - loss: 0.0010\n",
      "Epoch 56/100\n",
      "45000/45000 [==============================] - 6s 130us/step - loss: 0.0010\n",
      "Epoch 57/100\n",
      "45000/45000 [==============================] - 6s 129us/step - loss: 0.0010\n",
      "Epoch 58/100\n",
      "45000/45000 [==============================] - 6s 128us/step - loss: 0.0010\n",
      "Epoch 59/100\n",
      "45000/45000 [==============================] - 6s 128us/step - loss: 0.0010\n",
      "Epoch 60/100\n",
      "45000/45000 [==============================] - 6s 129us/step - loss: 0.0010\n",
      "Epoch 61/100\n",
      "45000/45000 [==============================] - 6s 130us/step - loss: 0.0010\n",
      "Epoch 62/100\n",
      "45000/45000 [==============================] - 6s 129us/step - loss: 0.0010\n",
      "Epoch 63/100\n",
      "45000/45000 [==============================] - 6s 130us/step - loss: 0.0010\n",
      "Epoch 64/100\n",
      "45000/45000 [==============================] - 6s 129us/step - loss: 0.0010\n",
      "Epoch 65/100\n",
      "45000/45000 [==============================] - 6s 129us/step - loss: 0.0010\n",
      "Epoch 66/100\n",
      "45000/45000 [==============================] - 6s 129us/step - loss: 0.0010\n",
      "Epoch 67/100\n",
      "45000/45000 [==============================] - 6s 128us/step - loss: 0.0010\n",
      "Epoch 68/100\n",
      "45000/45000 [==============================] - 6s 129us/step - loss: 0.0010\n",
      "Epoch 69/100\n",
      "45000/45000 [==============================] - 6s 132us/step - loss: 9.9962e-04\n",
      "Epoch 70/100\n",
      "45000/45000 [==============================] - 6s 128us/step - loss: 9.9837e-04\n",
      "Epoch 71/100\n",
      "45000/45000 [==============================] - 6s 129us/step - loss: 9.9969e-04\n",
      "Epoch 72/100\n",
      "45000/45000 [==============================] - 6s 129us/step - loss: 9.9864e-04\n",
      "Epoch 73/100\n",
      "45000/45000 [==============================] - 6s 127us/step - loss: 9.9727e-04\n",
      "Epoch 74/100\n",
      "45000/45000 [==============================] - 6s 133us/step - loss: 9.9711e-04\n",
      "Epoch 75/100\n",
      "45000/45000 [==============================] - 6s 129us/step - loss: 9.9674e-04\n",
      "Epoch 76/100\n",
      "45000/45000 [==============================] - 6s 129us/step - loss: 9.9536e-04\n",
      "Epoch 77/100\n",
      "45000/45000 [==============================] - 6s 129us/step - loss: 9.9663e-04\n",
      "Epoch 78/100\n",
      "45000/45000 [==============================] - 6s 129us/step - loss: 9.9393e-04\n",
      "Epoch 79/100\n",
      "45000/45000 [==============================] - 6s 129us/step - loss: 9.9349e-04\n",
      "Epoch 80/100\n",
      "45000/45000 [==============================] - 6s 129us/step - loss: 9.9353e-04\n",
      "Epoch 81/100\n",
      "45000/45000 [==============================] - 6s 128us/step - loss: 9.9358e-04\n",
      "Epoch 82/100\n",
      "45000/45000 [==============================] - 6s 128us/step - loss: 9.9216e-04\n",
      "Epoch 83/100\n",
      "45000/45000 [==============================] - 6s 128us/step - loss: 9.9177e-04\n",
      "Epoch 84/100\n",
      "45000/45000 [==============================] - 6s 128us/step - loss: 9.9282e-04\n",
      "Epoch 85/100\n",
      "45000/45000 [==============================] - 6s 128us/step - loss: 9.9010e-04\n",
      "Epoch 86/100\n",
      "45000/45000 [==============================] - 6s 129us/step - loss: 9.9113e-04\n",
      "Epoch 87/100\n",
      "45000/45000 [==============================] - 6s 129us/step - loss: 9.9017e-04\n",
      "Epoch 88/100\n",
      "45000/45000 [==============================] - 6s 128us/step - loss: 9.8934e-04\n",
      "Epoch 89/100\n",
      "45000/45000 [==============================] - 6s 129us/step - loss: 9.8841e-04\n",
      "Epoch 90/100\n",
      "45000/45000 [==============================] - 6s 128us/step - loss: 9.8845e-04\n",
      "Epoch 91/100\n",
      "45000/45000 [==============================] - 6s 128us/step - loss: 9.8727e-04\n",
      "Epoch 92/100\n"
     ]
    },
    {
     "name": "stdout",
     "output_type": "stream",
     "text": [
      "45000/45000 [==============================] - 6s 128us/step - loss: 9.8687e-04\n",
      "Epoch 93/100\n",
      "45000/45000 [==============================] - 6s 129us/step - loss: 9.8626e-04\n",
      "Epoch 94/100\n",
      "45000/45000 [==============================] - 6s 130us/step - loss: 9.8632e-04 0s - loss: 9.8556e-0\n",
      "Epoch 95/100\n",
      "45000/45000 [==============================] - 6s 128us/step - loss: 9.8561e-04\n",
      "Epoch 96/100\n",
      "45000/45000 [==============================] - 6s 128us/step - loss: 9.8639e-04\n",
      "Epoch 97/100\n",
      "45000/45000 [==============================] - 6s 129us/step - loss: 9.8459e-04\n",
      "Epoch 98/100\n",
      "45000/45000 [==============================] - 6s 128us/step - loss: 9.8556e-04\n",
      "Epoch 99/100\n",
      "45000/45000 [==============================] - 6s 129us/step - loss: 9.8391e-04\n",
      "Epoch 100/100\n",
      "45000/45000 [==============================] - 6s 130us/step - loss: 9.8564e-04\n"
     ]
    }
   ],
   "source": [
    "train_start_time = time.time()\n",
    "YCrCb_train_entire = YCrCb_model_entire.fit(YCrCb_feature,YCrCb_label,batch_size=128,epochs=100)\n",
    "train_entire_time =  time.time() - train_start_time"
   ]
  },
  {
   "cell_type": "code",
   "execution_count": 271,
   "metadata": {},
   "outputs": [
    {
     "data": {
      "image/png": "[encoded data removed]",
      "text/plain": [
       "<Figure size 432x288 with 1 Axes>"
      ]
     },
     "metadata": {},
     "output_type": "display_data"
    }
   ],
   "source": [
    "show_error(YCrCb_train_entire,valid=False)"
   ]
  },
  {
   "cell_type": "code",
   "execution_count": 203,
   "metadata": {},
   "outputs": [
    {
     "name": "stdout",
     "output_type": "stream",
     "text": [
      "Training mse: 0.000985644418704841   psnr : 30.06279732976197\n",
      "\n"
     ]
    }
   ],
   "source": [
    "show_psnr(YCrCb_train_entire,valid=False)"
   ]
  },
  {
   "cell_type": "code",
   "execution_count": 218,
   "metadata": {},
   "outputs": [],
   "source": [
    "#Save weights\n",
    "#save_weight(RGB_model,\"../lib/RGB_weight.h5\")\n",
    "#save_weight(YCrCb_model,\"../lib/YCrCb_weight.h5\")\n",
    "#save_weight(Y_model,\"../lib/Y_weight.h5\")\n",
    "save_weight(YCrCb_model_entire,weight_path)"
   ]
  },
  {
   "cell_type": "markdown",
   "metadata": {},
   "source": [
    "### Predict Images"
   ]
  },
  {
   "cell_type": "code",
   "execution_count": 9,
   "metadata": {},
   "outputs": [],
   "source": [
    "#Load model and weights\n",
    "SRCNN_pred= predict_model(n1=64,n2=32,n3=3,k1=9,k2=1,k3=5,learn_rate=learn_rate,channel=3)\n",
    "SRCNN_pred.load_weights(weight_path)"
   ]
  },
  {
   "cell_type": "code",
   "execution_count": 10,
   "metadata": {},
   "outputs": [],
   "source": [
    "predict_time = predicting(SRCNN_pred,n_test_files,test_lr_dir,test_hr_dir,test_lr_name,test_super_dir,scale=2)"
   ]
  },
  {
   "cell_type": "markdown",
   "metadata": {},
   "source": [
    "### Summarize Running Time"
   ]
  },
  {
   "cell_type": "code",
   "execution_count": 11,
   "metadata": {},
   "outputs": [
    {
     "name": "stdout",
     "output_type": "stream",
     "text": [
      "Feature and label construction time : 25.709649562835693 sec\n"
     ]
    }
   ],
   "source": [
    "print('Feature and label construction time : {} sec'.format(YCrCb_feature_time))"
   ]
  },
  {
   "cell_type": "code",
   "execution_count": 244,
   "metadata": {},
   "outputs": [
    {
     "name": "stdout",
     "output_type": "stream",
     "text": [
      "Training time : 528.7112383842468 sec\n"
     ]
    }
   ],
   "source": [
    "#Training time recorded by using gpu-gtx1070\n",
    "print('Training time : {} sec'.format(YCrCb_train_time))"
   ]
  },
  {
   "cell_type": "code",
   "execution_count": null,
   "metadata": {},
   "outputs": [],
   "source": [
    "print('writing SR images time : {} sec'.format(predict_time))"
   ]
  },
  {
   "cell_type": "code",
   "execution_count": 13,
   "metadata": {},
   "outputs": [],
   "source": [
    "PSNR = []\n",
    "for i in range(n_test_files):\n",
    "    SR = cv2.imread(os.path.join(test_super_dir,test_lr_name[i]))\n",
    "    HR = cv2.imread(os.path.join(test_hr_dir,test_lr_name[i]))\n",
    "    PSNR.append(get_psnr(HR,SR))"
   ]
  },
  {
   "cell_type": "code",
   "execution_count": null,
   "metadata": {},
   "outputs": [],
   "source": [
    "print('Testing data average psnr: {} '.format(numpy.mean(PSNR)))"
   ]
  },
  {
   "cell_type": "markdown",
   "metadata": {},
   "source": [
    "### References\n",
    "https://github.com/MarkPrecursor/SRCNN-keras\n",
    "\n",
    "https://github.com/tegg89/SRCNN-Tensorflow\n",
    "\n",
    "Dong, C., Loy, C. C., He, K., & Tang, X. (2016). Image super-resolution using deep convolutional networks. IEEE transactions on pattern analysis and machine intelligence, 38(2), 295-307.https://arxiv.org/pdf/1501.00092.pdf"
   ]
  }
 ],
 "metadata": {
  "kernelspec": {
   "display_name": "Python 3",
   "language": "python",
   "name": "python3"
  },
  "language_info": {
   "codemirror_mode": {
    "name": "ipython",
    "version": 3
   },
   "file_extension": ".py",
   "mimetype": "text/x-python",
   "name": "python",
   "nbconvert_exporter": "python",
   "pygments_lexer": "ipython3",
   "version": "3.6.6"
  }
 },
 "nbformat": 4,
 "nbformat_minor": 2
}
