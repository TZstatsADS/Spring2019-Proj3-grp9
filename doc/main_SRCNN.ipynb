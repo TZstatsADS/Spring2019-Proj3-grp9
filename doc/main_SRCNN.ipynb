{
 "cells": [
  {
   "cell_type": "markdown",
   "metadata": {},
   "source": [
    "### Super-Resolution Convolutional Neural Network "
   ]
  },
  {
   "cell_type": "code",
   "execution_count": 4,
   "metadata": {},
   "outputs": [],
   "source": [
    "#Load library\n",
    "import os\n",
    "import cv2\n",
    "import h5py\n",
    "import math\n",
    "import numpy\n",
    "import matplotlib.pyplot as plt\n",
    "import tensorflow as tf\n",
    "import time\n",
    "import warnings\n",
    "warnings.filterwarnings('ignore')"
   ]
  },
  {
   "cell_type": "markdown",
   "metadata": {},
   "source": [
    "### Feature and Label Construction"
   ]
  },
  {
   "cell_type": "code",
   "execution_count": 5,
   "metadata": {},
   "outputs": [],
   "source": [
    "#Set train data directories\n",
    "train_LR_dir = \"../data/train_set/LR/\"\n",
    "train_HR_dir = \"../data/train_set/HR/\"\n",
    "LR_dir_name = os.listdir(train_LR_dir)\n",
    "HR_dir_name = os.listdir(train_HR_dir)\n",
    "n_files = len(LR_dir_name)\n",
    "#initial values\n",
    "Random_Crop =30 #number of sample patches\n",
    "Patch_size = 32 \n",
    "label_size = 20\n",
    "conv_side = 6 \n",
    "learn_rate = 0.0003"
   ]
  },
  {
   "cell_type": "code",
   "execution_count": 270,
   "metadata": {},
   "outputs": [],
   "source": [
    "feature_start_time = time.time()\n",
    "#Set feature and label dimension\n",
    "train_data = numpy.zeros((n_files * Random_Crop,  Patch_size, Patch_size,1), dtype=numpy.double) #feature size 32 * 32 * 1\n",
    "train_label = numpy.zeros((n_files * Random_Crop,  label_size, label_size,1), dtype=numpy.double) #label size 20 * 20 * 1\n",
    "\n",
    "for i in range(n_files):\n",
    "    \n",
    "    LR_file_path = train_LR_dir + LR_dir_name[i] #Low Resolution image path\n",
    "    HR_file_path = train_HR_dir + HR_dir_name[i] #High Resolution image path\n",
    "    \n",
    "    hr_img = cv2.imread(HR_file_path,cv2.IMREAD_COLOR) #Read High Resolution image as label\n",
    "    hr_img = cv2.cvtColor(hr_img, cv2.COLOR_BGR2YCrCb) #Convert RGB to YCrCb Color type\n",
    "    hr_img = hr_img[:, :, 0] #Use Y color channel for trainning\n",
    "    shape = hr_img.shape #High Resolution shape\n",
    "    \n",
    "    lr_img = cv2.imread(LR_file_path,cv2.IMREAD_COLOR)# Read low Resolution image as feature\n",
    "    lr_img = cv2.cvtColor(lr_img, cv2.COLOR_BGR2YCrCb)#Convert RGB to YCrCb Color type\n",
    "    lr_img = lr_img[:, :, 0]#Use Y color channel for trainning\n",
    "    lr_img = cv2.resize(lr_img,(shape[1],shape[0]),interpolation = cv2.INTER_CUBIC) #Resize the LR to HR size using cubic interpolation\n",
    "    \n",
    "    #Select random points\n",
    "    numpy.random.seed(2019)\n",
    "    Points_x = numpy.random.randint(0, shape[0]- Patch_size, Random_Crop)\n",
    "    Points_y = numpy.random.randint(0, shape[1]- Patch_size, Random_Crop)   \n",
    "    \n",
    "    #Construct patches by random points\n",
    "    for j in range(Random_Crop):\n",
    "        lr_patch = lr_img[Points_x[j]: Points_x[j] + Patch_size, Points_y[j]: Points_y[j] + Patch_size]\n",
    "        hr_patch = hr_img[Points_x[j]: Points_x[j] + Patch_size, Points_y[j]: Points_y[j] + Patch_size]\n",
    "   \n",
    "    #Convert pixel range from (0,255) to (0,1)\n",
    "        lr_patch = lr_patch.astype(float) / 255.\n",
    "        hr_patch = hr_patch.astype(float) / 255.\n",
    "    \n",
    "    #Construct feature and label matrix\n",
    "        train_data[i * Random_Crop + j,  :, :,0] = lr_patch\n",
    "        train_label[i * Random_Crop + j, :, :,0] = hr_patch[conv_side: -conv_side, conv_side: -conv_side]\n",
    "        \n",
    "feature_end_time = time.time()\n",
    "feature_time = feature_end_time - feature_start_time"
   ]
  },
  {
   "cell_type": "code",
   "execution_count": 271,
   "metadata": {},
   "outputs": [
    {
     "data": {
      "text/plain": [
       "(45000, 32, 32, 1)"
      ]
     },
     "execution_count": 271,
     "metadata": {},
     "output_type": "execute_result"
    }
   ],
   "source": [
    "train_data.shape"
   ]
  },
  {
   "cell_type": "code",
   "execution_count": 272,
   "metadata": {},
   "outputs": [
    {
     "data": {
      "text/plain": [
       "(45000, 20, 20, 1)"
      ]
     },
     "execution_count": 272,
     "metadata": {},
     "output_type": "execute_result"
    }
   ],
   "source": [
    "train_label.shape"
   ]
  },
  {
   "cell_type": "code",
   "execution_count": null,
   "metadata": {},
   "outputs": [],
   "source": [
    "#write h5 file for feature and label construction\n",
    "def write_h5py(x,y):\n",
    "    x = train_data.astype(numpy.float32)\n",
    "    y = train_label.astype(numpy.float32)\n",
    "    with h5py.File(\"../lib/train.h5\", 'w') as h:\n",
    "        h.create_dataset('train_data', data=x, shape=x.shape)\n",
    "        h.create_dataset('train_label', data=y, shape=y.shape)"
   ]
  },
  {
   "cell_type": "code",
   "execution_count": null,
   "metadata": {},
   "outputs": [],
   "source": [
    "#Save train feature h5py file\n",
    "#write_h5py(train_data,train_label)"
   ]
  },
  {
   "cell_type": "markdown",
   "metadata": {},
   "source": [
    "### Train Images"
   ]
  },
  {
   "cell_type": "code",
   "execution_count": 48,
   "metadata": {},
   "outputs": [],
   "source": [
    "# reading saved h5py train feature file\n",
    "def read_training_data(file):\n",
    "    with h5py.File(file, 'r') as hf:\n",
    "        data = numpy.array(hf.get('train_data'))\n",
    "        label = numpy.array(hf.get('train_label'))\n",
    "        return data, label"
   ]
  },
  {
   "cell_type": "code",
   "execution_count": 49,
   "metadata": {},
   "outputs": [],
   "source": [
    "#train_data,train_label =  read_training_data(\"train.h5\") "
   ]
  },
  {
   "cell_type": "code",
   "execution_count": 9,
   "metadata": {},
   "outputs": [],
   "source": [
    "#Build trainning model\n",
    "def train_model():\n",
    "    SRCNN = tf.keras.Sequential()\n",
    "    SRCNN.add(tf.keras.layers.Conv2D(64, kernel_size=9,activation='relu', padding='valid',input_shape=(Patch_size, Patch_size, 1)))#patch size\n",
    "    SRCNN.add(tf.keras.layers.Conv2D(32, kernel_size=1,activation='relu', padding='valid'))\n",
    "    SRCNN.add(tf.keras.layers.Conv2D(1, kernel_size=5,activation='linear', padding='valid'))\n",
    "    adam = tf.keras.optimizers.Adam(lr=learn_rate)\n",
    "    SRCNN.compile(optimizer=adam, loss='mse')\n",
    "    return SRCNN"
   ]
  },
  {
   "cell_type": "code",
   "execution_count": 10,
   "metadata": {
    "scrolled": false
   },
   "outputs": [
    {
     "name": "stdout",
     "output_type": "stream",
     "text": [
      "_________________________________________________________________\n",
      "Layer (type)                 Output Shape              Param #   \n",
      "=================================================================\n",
      "conv2d_3 (Conv2D)            (None, 24, 24, 64)        5248      \n",
      "_________________________________________________________________\n",
      "conv2d_4 (Conv2D)            (None, 24, 24, 32)        2080      \n",
      "_________________________________________________________________\n",
      "conv2d_5 (Conv2D)            (None, 20, 20, 1)         801       \n",
      "=================================================================\n",
      "Total params: 8,129\n",
      "Trainable params: 8,129\n",
      "Non-trainable params: 0\n",
      "_________________________________________________________________\n",
      "None\n"
     ]
    }
   ],
   "source": [
    "SRCNN_train = train_model()\n",
    "print(SRCNN_train.summary())"
   ]
  },
  {
   "cell_type": "code",
   "execution_count": 276,
   "metadata": {},
   "outputs": [
    {
     "name": "stdout",
     "output_type": "stream",
     "text": [
      "Epoch 1/100\n",
      "45000/45000 [==============================] - 3s 62us/step - loss: 0.0089\n",
      "Epoch 2/100\n",
      "45000/45000 [==============================] - 2s 51us/step - loss: 0.0026\n",
      "Epoch 3/100\n",
      "45000/45000 [==============================] - 2s 51us/step - loss: 0.0026\n",
      "Epoch 4/100\n",
      "45000/45000 [==============================] - 2s 51us/step - loss: 0.0025\n",
      "Epoch 5/100\n",
      "45000/45000 [==============================] - 2s 51us/step - loss: 0.0025\n",
      "Epoch 6/100\n",
      "45000/45000 [==============================] - 2s 49us/step - loss: 0.0025\n",
      "Epoch 7/100\n",
      "45000/45000 [==============================] - 2s 50us/step - loss: 0.0025\n",
      "Epoch 8/100\n",
      "45000/45000 [==============================] - 2s 50us/step - loss: 0.0025\n",
      "Epoch 9/100\n",
      "45000/45000 [==============================] - 2s 50us/step - loss: 0.0025\n",
      "Epoch 10/100\n",
      "45000/45000 [==============================] - 2s 51us/step - loss: 0.0025\n",
      "Epoch 11/100\n",
      "45000/45000 [==============================] - 2s 52us/step - loss: 0.0025\n",
      "Epoch 12/100\n",
      "45000/45000 [==============================] - 2s 52us/step - loss: 0.0024\n",
      "Epoch 13/100\n",
      "45000/45000 [==============================] - 2s 53us/step - loss: 0.0024\n",
      "Epoch 14/100\n",
      "45000/45000 [==============================] - 2s 51us/step - loss: 0.0024\n",
      "Epoch 15/100\n",
      "45000/45000 [==============================] - 2s 51us/step - loss: 0.0024\n",
      "Epoch 16/100\n",
      "45000/45000 [==============================] - 2s 51us/step - loss: 0.0024\n",
      "Epoch 17/100\n",
      "45000/45000 [==============================] - 2s 51us/step - loss: 0.0024\n",
      "Epoch 18/100\n",
      "45000/45000 [==============================] - 2s 51us/step - loss: 0.0024\n",
      "Epoch 19/100\n",
      "45000/45000 [==============================] - 2s 51us/step - loss: 0.0024\n",
      "Epoch 20/100\n",
      "45000/45000 [==============================] - 2s 51us/step - loss: 0.0024\n",
      "Epoch 21/100\n",
      "45000/45000 [==============================] - 2s 51us/step - loss: 0.0024\n",
      "Epoch 22/100\n",
      "45000/45000 [==============================] - 2s 51us/step - loss: 0.0024\n",
      "Epoch 23/100\n",
      "45000/45000 [==============================] - 2s 51us/step - loss: 0.0024\n",
      "Epoch 24/100\n",
      "45000/45000 [==============================] - 2s 51us/step - loss: 0.0024\n",
      "Epoch 25/100\n",
      "45000/45000 [==============================] - 2s 51us/step - loss: 0.0024\n",
      "Epoch 26/100\n",
      "45000/45000 [==============================] - 2s 51us/step - loss: 0.0024\n",
      "Epoch 27/100\n",
      "45000/45000 [==============================] - 2s 51us/step - loss: 0.0024\n",
      "Epoch 28/100\n",
      "45000/45000 [==============================] - ETA: 0s - loss: 0.002 - 2s 51us/step - loss: 0.0024\n",
      "Epoch 29/100\n",
      "45000/45000 [==============================] - 2s 51us/step - loss: 0.0024\n",
      "Epoch 30/100\n",
      "45000/45000 [==============================] - 2s 51us/step - loss: 0.0024\n",
      "Epoch 31/100\n",
      "45000/45000 [==============================] - 2s 51us/step - loss: 0.0024\n",
      "Epoch 32/100\n",
      "45000/45000 [==============================] - 2s 51us/step - loss: 0.0024: 0s - loss: 0.0\n",
      "Epoch 33/100\n",
      "45000/45000 [==============================] - 2s 51us/step - loss: 0.0024\n",
      "Epoch 34/100\n",
      "45000/45000 [==============================] - 2s 51us/step - loss: 0.0024\n",
      "Epoch 35/100\n",
      "45000/45000 [==============================] - 2s 51us/step - loss: 0.0024\n",
      "Epoch 36/100\n",
      "45000/45000 [==============================] - 2s 51us/step - loss: 0.0024\n",
      "Epoch 37/100\n",
      "45000/45000 [==============================] - 2s 51us/step - loss: 0.0024: 0s \n",
      "Epoch 38/100\n",
      "45000/45000 [==============================] - 2s 51us/step - loss: 0.0024\n",
      "Epoch 39/100\n",
      "45000/45000 [==============================] - 2s 51us/step - loss: 0.0024\n",
      "Epoch 40/100\n",
      "45000/45000 [==============================] - 2s 51us/step - loss: 0.0024\n",
      "Epoch 41/100\n",
      "45000/45000 [==============================] - 2s 51us/step - loss: 0.0023\n",
      "Epoch 42/100\n",
      "45000/45000 [==============================] - 2s 51us/step - loss: 0.0023\n",
      "Epoch 43/100\n",
      "45000/45000 [==============================] - 2s 51us/step - loss: 0.0023\n",
      "Epoch 44/100\n",
      "45000/45000 [==============================] - 2s 51us/step - loss: 0.0023\n",
      "Epoch 45/100\n",
      "45000/45000 [==============================] - 2s 51us/step - loss: 0.0023\n",
      "Epoch 46/100\n",
      "45000/45000 [==============================] - 2s 51us/step - loss: 0.0023\n",
      "Epoch 47/100\n",
      "45000/45000 [==============================] - 2s 51us/step - loss: 0.0023\n",
      "Epoch 48/100\n",
      "45000/45000 [==============================] - 2s 51us/step - loss: 0.0023\n",
      "Epoch 49/100\n",
      "45000/45000 [==============================] - 2s 51us/step - loss: 0.0023\n",
      "Epoch 50/100\n",
      "45000/45000 [==============================] - 2s 51us/step - loss: 0.0023\n",
      "Epoch 51/100\n",
      "45000/45000 [==============================] - 2s 51us/step - loss: 0.0023\n",
      "Epoch 52/100\n",
      "45000/45000 [==============================] - 2s 51us/step - loss: 0.0023\n",
      "Epoch 53/100\n",
      "45000/45000 [==============================] - 2s 51us/step - loss: 0.0023\n",
      "Epoch 54/100\n",
      "45000/45000 [==============================] - 2s 51us/step - loss: 0.0023\n",
      "Epoch 55/100\n",
      "45000/45000 [==============================] - 2s 51us/step - loss: 0.0023\n",
      "Epoch 56/100\n",
      "45000/45000 [==============================] - 2s 51us/step - loss: 0.0023\n",
      "Epoch 57/100\n",
      "45000/45000 [==============================] - 2s 51us/step - loss: 0.0023\n",
      "Epoch 58/100\n",
      "45000/45000 [==============================] - 2s 51us/step - loss: 0.0023\n",
      "Epoch 59/100\n",
      "45000/45000 [==============================] - 2s 51us/step - loss: 0.0023\n",
      "Epoch 60/100\n",
      "45000/45000 [==============================] - 2s 51us/step - loss: 0.0023\n",
      "Epoch 61/100\n",
      "45000/45000 [==============================] - 2s 51us/step - loss: 0.0023\n",
      "Epoch 62/100\n",
      "45000/45000 [==============================] - 2s 51us/step - loss: 0.0023\n",
      "Epoch 63/100\n",
      "45000/45000 [==============================] - 2s 51us/step - loss: 0.0023\n",
      "Epoch 64/100\n",
      "45000/45000 [==============================] - 2s 51us/step - loss: 0.0023\n",
      "Epoch 65/100\n",
      "45000/45000 [==============================] - 2s 51us/step - loss: 0.0023\n",
      "Epoch 66/100\n",
      "45000/45000 [==============================] - 2s 51us/step - loss: 0.0023\n",
      "Epoch 67/100\n",
      "45000/45000 [==============================] - 2s 51us/step - loss: 0.0023\n",
      "Epoch 68/100\n",
      "45000/45000 [==============================] - 2s 51us/step - loss: 0.0023\n",
      "Epoch 69/100\n",
      "45000/45000 [==============================] - 2s 51us/step - loss: 0.0023\n",
      "Epoch 70/100\n",
      "45000/45000 [==============================] - 2s 51us/step - loss: 0.0023\n",
      "Epoch 71/100\n",
      "45000/45000 [==============================] - 2s 51us/step - loss: 0.0023\n",
      "Epoch 72/100\n",
      "45000/45000 [==============================] - 2s 51us/step - loss: 0.0023\n",
      "Epoch 73/100\n",
      "45000/45000 [==============================] - 2s 51us/step - loss: 0.0023\n",
      "Epoch 74/100\n",
      "45000/45000 [==============================] - 2s 51us/step - loss: 0.0023\n",
      "Epoch 75/100\n",
      "45000/45000 [==============================] - 2s 51us/step - loss: 0.0023\n",
      "Epoch 76/100\n",
      "45000/45000 [==============================] - 2s 51us/step - loss: 0.0023\n",
      "Epoch 77/100\n",
      "45000/45000 [==============================] - 2s 51us/step - loss: 0.0023\n",
      "Epoch 78/100\n",
      "45000/45000 [==============================] - 2s 51us/step - loss: 0.0023\n",
      "Epoch 79/100\n",
      "45000/45000 [==============================] - 2s 51us/step - loss: 0.0023\n",
      "Epoch 80/100\n",
      "45000/45000 [==============================] - 2s 51us/step - loss: 0.0023\n",
      "Epoch 81/100\n",
      "45000/45000 [==============================] - 2s 51us/step - loss: 0.0023\n",
      "Epoch 82/100\n",
      "45000/45000 [==============================] - 2s 51us/step - loss: 0.0023\n",
      "Epoch 83/100\n",
      "45000/45000 [==============================] - 2s 51us/step - loss: 0.0023\n",
      "Epoch 84/100\n",
      "45000/45000 [==============================] - 2s 51us/step - loss: 0.0023\n",
      "Epoch 85/100\n",
      "45000/45000 [==============================] - 2s 51us/step - loss: 0.0023\n",
      "Epoch 86/100\n",
      "45000/45000 [==============================] - 2s 51us/step - loss: 0.0023\n",
      "Epoch 87/100\n",
      "45000/45000 [==============================] - 2s 51us/step - loss: 0.0023\n",
      "Epoch 88/100\n",
      "45000/45000 [==============================] - 2s 51us/step - loss: 0.0023\n",
      "Epoch 89/100\n",
      "45000/45000 [==============================] - 2s 51us/step - loss: 0.0023\n",
      "Epoch 90/100\n",
      "45000/45000 [==============================] - 2s 51us/step - loss: 0.0023\n",
      "Epoch 91/100\n",
      "45000/45000 [==============================] - 2s 51us/step - loss: 0.0023\n",
      "Epoch 92/100\n",
      "45000/45000 [==============================] - 2s 51us/step - loss: 0.0023: 0s\n",
      "Epoch 93/100\n",
      "45000/45000 [==============================] - 2s 51us/step - loss: 0.0023\n",
      "Epoch 94/100\n",
      "45000/45000 [==============================] - 2s 51us/step - loss: 0.0023\n",
      "Epoch 95/100\n",
      "45000/45000 [==============================] - 2s 51us/step - loss: 0.0023\n",
      "Epoch 96/100\n",
      "45000/45000 [==============================] - 2s 51us/step - loss: 0.0023\n",
      "Epoch 97/100\n",
      "45000/45000 [==============================] - 2s 51us/step - loss: 0.0023\n",
      "Epoch 98/100\n",
      "45000/45000 [==============================] - 2s 51us/step - loss: 0.0023\n",
      "Epoch 99/100\n",
      "45000/45000 [==============================] - 2s 51us/step - loss: 0.0023\n",
      "Epoch 100/100\n",
      "45000/45000 [==============================] - 2s 51us/step - loss: 0.0023\n"
     ]
    }
   ],
   "source": [
    "#training\n",
    "train_start_time = time.time()\n",
    "training = SRCNN_train.fit(train_data,train_label,batch_size=128,epochs=100)\n",
    "train_end_time = time.time()\n",
    "train_time = train_end_time - train_start_time"
   ]
  },
  {
   "cell_type": "code",
   "execution_count": 277,
   "metadata": {},
   "outputs": [
    {
     "data": {
      "image/png": "[encoded data removed]",
      "text/plain": [
       "<Figure size 432x288 with 1 Axes>"
      ]
     },
     "metadata": {},
     "output_type": "display_data"
    }
   ],
   "source": [
    "plt.plot(training.history['loss'],color = 'red')\n",
    "plt.title('mean square error over 50 epoch')\n",
    "plt.xlabel('epoch')\n",
    "plt.ylabel('mse')\n",
    "plt.show()"
   ]
  },
  {
   "cell_type": "code",
   "execution_count": 278,
   "metadata": {},
   "outputs": [
    {
     "name": "stdout",
     "output_type": "stream",
     "text": [
      "Training data mse: 0.0023110840724160273   psnr : 26.36 \n"
     ]
    }
   ],
   "source": [
    "train_mse = training.history['loss'][-1]\n",
    "train_psnr = round(20 * math.log10(1.) - 10 * math.log10(train_mse),2)\n",
    "print('Training data mse: {}   psnr : {} '.format(train_mse,train_psnr))"
   ]
  },
  {
   "cell_type": "code",
   "execution_count": 11,
   "metadata": {},
   "outputs": [],
   "source": [
    "#Save training model weights\n",
    "SRCNN_train.save_weights(\"../lib/my_weight.h5\")"
   ]
  },
  {
   "cell_type": "markdown",
   "metadata": {},
   "source": [
    "### Predict Images"
   ]
  },
  {
   "cell_type": "code",
   "execution_count": 6,
   "metadata": {},
   "outputs": [],
   "source": [
    "#Buiding predict model\n",
    "def predict_model():\n",
    "    SRCNN = tf.keras.Sequential()\n",
    "    SRCNN.add(tf.keras.layers.Conv2D(64, kernel_size=9,activation='relu', padding='valid',input_shape=(None, None, 1)))\n",
    "    SRCNN.add(tf.keras.layers.Conv2D(32, kernel_size=1,activation='relu', padding='valid'))\n",
    "    SRCNN.add(tf.keras.layers.Conv2D(1, kernel_size=5,activation='linear', padding='valid'))\n",
    "    adam = tf.keras.optimizers.Adam(lr=learn_rate)\n",
    "    SRCNN.compile(optimizer=adam, loss='mse', metrics=['mse'])\n",
    "    return SRCNN"
   ]
  },
  {
   "cell_type": "code",
   "execution_count": 7,
   "metadata": {},
   "outputs": [],
   "source": [
    "#Load model and weights\n",
    "SRCNN_pred = predict_model()\n",
    "SRCNN_pred.load_weights(\"../lib/my_weight.h5\")\n",
    "#Set test data directories\n",
    "test_lr_dir = \"../data/test_set/LR/\"\n",
    "test_super_dir = \"../data/test_set/SR-I/\"\n",
    "test_hr_dir = \"../data/test_set/HR/\"\n",
    "test_lr_name = os.listdir(test_lr_dir)\n",
    "n_test_files = len(test_lr_name)"
   ]
  },
  {
   "cell_type": "code",
   "execution_count": 282,
   "metadata": {},
   "outputs": [],
   "source": [
    "#predict SR\n",
    "predict_start_time= time.time()\n",
    "\n",
    "for i in range(n_test_files):\n",
    "    test_lr_img_path= test_lr_dir + test_lr_name[i]\n",
    "    test_lr_img = cv2.imread(test_lr_img_path,cv2.IMREAD_COLOR) \n",
    "    test_lr_img = cv2.cvtColor(test_lr_img,cv2.COLOR_BGR2YCrCb) #convert to YCrCb color type  \n",
    "    t_shape = test_lr_img.shape\n",
    "    \n",
    "    #double the size of LR by cubic interpolation\n",
    "    test_lr_img = cv2.resize(test_lr_img,(t_shape[1]*2,t_shape[0]*2),interpolation = cv2.INTER_CUBIC)\n",
    "    new_shape = test_lr_img.shape\n",
    "\n",
    "    #Construct feature dimension for CNN (1*height*width*1)\n",
    "    Y_img = test_lr_img[:,:,0]     \n",
    "    Y = numpy.zeros((1, new_shape[0], new_shape[1], 1), dtype=float)\n",
    "    Y[0, :, :, 0] = Y_img.astype(float) / 255.     \n",
    "    \n",
    "    #predict super resolution images\n",
    "    pre = SRCNN_pred.predict(Y, batch_size=1) * 255.  \n",
    "    pre[pre[:] > 255] = 255\n",
    "    pre[pre[:] < 0] = 0 \n",
    "    pre = pre.astype(numpy.uint8)# integer (0 to 255) type\n",
    "    \n",
    "    #Construct full super resolution images\n",
    "    test_lr_img[6: -6, 6: -6, 0] = pre[0, :, :, 0] \n",
    "    test_lr_img = cv2.cvtColor(test_lr_img,cv2.COLOR_YCrCb2BGR) #convert color back to BGR type\n",
    "    \n",
    "    #Write SR images\n",
    "    cv2.imwrite(os.path.join(test_super_dir, test_lr_name[i]), test_lr_img)\n",
    "    \n",
    "predict_end_time = time.time()\n",
    "predict_time = predict_end_time - predict_start_time "
   ]
  },
  {
   "cell_type": "markdown",
   "metadata": {},
   "source": [
    "### Summarize Running Time"
   ]
  },
  {
   "cell_type": "code",
   "execution_count": null,
   "metadata": {},
   "outputs": [],
   "source": [
    "print('Feature and label construction time : {} sec \\n\\nTraining time : {} sec\\n\\nPredicting and writing SR images time : {} sec'.format(feature_time,train_time,predict_time))"
   ]
  },
  {
   "cell_type": "code",
   "execution_count": 12,
   "metadata": {},
   "outputs": [],
   "source": [
    "#get test image PSNR \n",
    "def get_psnr(HR,SR):\n",
    "    HR = numpy.array(HR,dtype = float)\n",
    "    SR = numpy.array(SR,dtype = float)\n",
    "    DIFF = SR - HR\n",
    "    DIFF = DIFF.flatten('C')    \n",
    "    MSE =numpy.mean(DIFF ** 2.)\n",
    "    PSNR = 20 * math.log10(255.) - 10 * math.log10(MSE)\n",
    "    return PSNR"
   ]
  },
  {
   "cell_type": "code",
   "execution_count": null,
   "metadata": {},
   "outputs": [],
   "source": [
    "PSNR = []\n",
    "for i in range(n_test_files):\n",
    "    SR = cv2.imread(os.path.join(test_super_dir,test_lr_name[i]))\n",
    "    HR = cv2.imread(os.path.join(test_hr_dir,test_lr_name[i]))\n",
    "    PSNR.append(get_psnr(HR,SR))"
   ]
  },
  {
   "cell_type": "code",
   "execution_count": null,
   "metadata": {},
   "outputs": [],
   "source": [
    "PSNR"
   ]
  },
  {
   "cell_type": "code",
   "execution_count": null,
   "metadata": {},
   "outputs": [],
   "source": [
    "print('Testing data average psnr: {} '.format(numpy.mean(PSNR)))"
   ]
  },
  {
   "cell_type": "markdown",
   "metadata": {},
   "source": [
    "### References\n",
    "https://github.com/MarkPrecursor/SRCNN-keras\n",
    "\n",
    "https://github.com/tegg89/SRCNN-Tensorflow\n",
    "\n",
    "Dong, C., Loy, C. C., He, K., & Tang, X. (2016). Image super-resolution using deep convolutional networks. IEEE transactions on pattern analysis and machine intelligence, 38(2), 295-307.https://arxiv.org/pdf/1501.00092.pdf"
   ]
  }
 ],
 "metadata": {
  "kernelspec": {
   "display_name": "Python 3",
   "language": "python",
   "name": "python3"
  },
  "language_info": {
   "codemirror_mode": {
    "name": "ipython",
    "version": 3
   },
   "file_extension": ".py",
   "mimetype": "text/x-python",
   "name": "python",
   "nbconvert_exporter": "python",
   "pygments_lexer": "ipython3",
   "version": "3.6.6"
  }
 },
 "nbformat": 4,
 "nbformat_minor": 2
}
